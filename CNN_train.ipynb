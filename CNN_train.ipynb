{
  "nbformat": 4,
  "nbformat_minor": 0,
  "metadata": {
    "colab": {
      "provenance": []
    },
    "kernelspec": {
      "name": "python3",
      "display_name": "Python 3"
    },
    "language_info": {
      "name": "python"
    }
  },
  "cells": [
    {
      "cell_type": "code",
      "source": [
        "import matplotlib.pyplot as plt\n",
        "import numpy as np\n",
        "import json"
      ],
      "metadata": {
        "id": "dgzBb9CNvy9Z"
      },
      "execution_count": 5,
      "outputs": []
    },
    {
      "cell_type": "code",
      "source": [
        "with open('tda_train_part.json', 'r') as file:\n",
        "    data = json.load(file)"
      ],
      "metadata": {
        "id": "VmQxQxoxkf5R"
      },
      "execution_count": 43,
      "outputs": []
    },
    {
      "cell_type": "code",
      "source": [
        "images = np.array([el[0] for el in data])\n",
        "labels_MF = np.array([el[1] for el in data])\n",
        "labels_BP = np.array([el[2] for el in data])\n",
        "labels_CC = np.array([el[3] for el in data])"
      ],
      "metadata": {
        "id": "LCeG6w-ThhYy"
      },
      "execution_count": 44,
      "outputs": []
    },
    {
      "cell_type": "markdown",
      "source": [
        "Classes are highly imbalanced, most of them are almost constant zero. To battle this, we aim to discard some of the least interesting labels."
      ],
      "metadata": {
        "id": "_A-U4xIQoNSI"
      }
    },
    {
      "cell_type": "code",
      "source": [
        "class_counts = np.sum(labels_BP, axis=0)\n",
        "selected_classes = np.where(class_counts >= 250)[0]\n",
        "selected_classes"
      ],
      "metadata": {
        "colab": {
          "base_uri": "https://localhost:8080/"
        },
        "id": "M3DB_PDqotSG",
        "outputId": "5d73d1bb-5368-4b36-e7e2-f9c057608c4e"
      },
      "execution_count": 46,
      "outputs": [
        {
          "output_type": "execute_result",
          "data": {
            "text/plain": [
              "array([  57,   61,   67,  155,  192,  322,  345,  346,  363,  525,  534,\n",
              "        542,  543,  546,  552,  584,  623,  637,  744,  767,  786,  808,\n",
              "        864,  897,  934,  956, 1035, 1075, 1095, 1110, 1198, 1200, 1247,\n",
              "       1294, 1319, 1326, 1350, 1368, 1440, 1506, 1514, 1516, 1541, 1596,\n",
              "       1668, 1678, 1707, 1732, 1844, 1871, 1872])"
            ]
          },
          "metadata": {},
          "execution_count": 46
        }
      ]
    },
    {
      "cell_type": "code",
      "source": [
        "labels_BP = labels_BP[:, selected_classes]"
      ],
      "metadata": {
        "id": "5cY18zRTqsnS"
      },
      "execution_count": 47,
      "outputs": []
    },
    {
      "cell_type": "code",
      "source": [
        "plt.imshow(np.array(images[13]), cmap='gray')\n",
        "plt.axis('off')\n",
        "plt.show()"
      ],
      "metadata": {
        "colab": {
          "base_uri": "https://localhost:8080/",
          "height": 364
        },
        "id": "uMMa9L43hsDF",
        "outputId": "564f40de-6bab-4066-c97c-45214b7ac8af"
      },
      "execution_count": 10,
      "outputs": [
        {
          "output_type": "display_data",
          "data": {
            "text/plain": [
              "<Figure size 640x480 with 1 Axes>"
            ],
            "image/png": "[encoded data removed]"
          },
          "metadata": {}
        }
      ]
    },
    {
      "cell_type": "code",
      "source": [
        "import torch\n",
        "import torch.nn as nn\n",
        "import torch.optim as optim\n",
        "import torchvision.transforms as transforms\n",
        "import torchvision.datasets as datasets\n",
        "from torch.utils.data import TensorDataset, DataLoader\n",
        "\n",
        "device = torch.device(\"cuda\" if torch.cuda.is_available() else \"cpu\")\n",
        "\n",
        "transform = transforms.Compose([\n",
        "    transforms.ToTensor(),\n",
        "])\n",
        "\n",
        "dataset = TensorDataset(torch.Tensor(images), torch.Tensor(labels_BP)) # Here we handle BP only, changeable to MF or CC.\n",
        "\n",
        "batch_size = 64\n",
        "\n",
        "train_loader = DataLoader(dataset, batch_size=batch_size, shuffle=True)"
      ],
      "metadata": {
        "id": "ydt4dNW96qiR"
      },
      "execution_count": 48,
      "outputs": []
    },
    {
      "cell_type": "code",
      "source": [
        "with open('tda_valid.json', 'r') as file:\n",
        "    data_val = json.load(file)\n",
        "images_val = np.array([el[0] for el in data_val])\n",
        "labels_MF_val = np.array([el[1] for el in data_val])\n",
        "labels_BP_val = np.array([el[2] for el in data_val])[:, selected_classes]\n",
        "labels_CC_val = np.array([el[3] for el in data_val])"
      ],
      "metadata": {
        "id": "mCQaNCfekVrh"
      },
      "execution_count": 17,
      "outputs": []
    },
    {
      "cell_type": "code",
      "source": [
        "dataset_val = TensorDataset(torch.Tensor(images_val), torch.Tensor(labels_BP_val))\n",
        "\n",
        "val_loader = DataLoader(dataset_val, batch_size=batch_size, shuffle=False)"
      ],
      "metadata": {
        "id": "spQ6_VyUkd5x"
      },
      "execution_count": 18,
      "outputs": []
    },
    {
      "cell_type": "code",
      "source": [
        "num_classes = labels_BP.shape[1]\n",
        "img_size = (images.shape[1], images.shape[2])"
      ],
      "metadata": {
        "id": "rPVWx9I4jTPZ"
      },
      "execution_count": 49,
      "outputs": []
    },
    {
      "cell_type": "code",
      "source": [
        "class CNN1D(nn.Module):\n",
        "    def __init__(self, input_size=img_size[1], num_classes=num_classes):\n",
        "        super(CNN1D, self).__init__()\n",
        "\n",
        "        self.conv1 = nn.Conv1d(in_channels=img_size[0], out_channels=64, kernel_size=5, stride=1, padding=2)\n",
        "        self.pool = nn.MaxPool1d(kernel_size=2, stride=2)\n",
        "        self.conv2 = nn.Conv1d(in_channels=64, out_channels=128, kernel_size=3, stride=1, padding=1)\n",
        "\n",
        "        self.fc1 = nn.Linear(128 * (input_size // 4), 256)\n",
        "        self.fc2 = nn.Linear(256, num_classes)\n",
        "\n",
        "        self.relu = nn.ReLU()\n",
        "        self.dropout = nn.Dropout(0.2)\n",
        "\n",
        "    def forward(self, x):\n",
        "        x = self.relu(self.conv1(x))\n",
        "        x = self.pool(x)\n",
        "        x = self.relu(self.conv2(x))\n",
        "        x = self.pool(x)\n",
        "\n",
        "        x = x.view(x.shape[0], -1)\n",
        "        x = self.relu(self.fc1(x))\n",
        "        x = self.dropout(x)\n",
        "        x = self.fc2(x)\n",
        "        return x"
      ],
      "metadata": {
        "id": "xShTf2uy66hF"
      },
      "execution_count": 50,
      "outputs": []
    },
    {
      "cell_type": "code",
      "source": [
        "model = CNN1D().to(device)\n",
        "criterion = nn.BCEWithLogitsLoss()\n",
        "optimizer = optim.Adam(model.parameters(), lr=0.001)"
      ],
      "metadata": {
        "id": "SlL5W4pXj0t7"
      },
      "execution_count": 51,
      "outputs": []
    },
    {
      "cell_type": "code",
      "source": [
        "num_epochs = 100\n",
        "for epoch in range(num_epochs):\n",
        "    model.train()\n",
        "    running_loss = 0.0\n",
        "    for images, labels in train_loader:\n",
        "        images = images.to(device)\n",
        "        outputs = model(images)\n",
        "\n",
        "        labels = labels.to(device)\n",
        "\n",
        "        optimizer.zero_grad()\n",
        "        outputs = model(images)\n",
        "        loss = criterion(outputs, labels)\n",
        "        loss.backward()\n",
        "        optimizer.step()\n",
        "\n",
        "        running_loss += loss.item()\n",
        "    if (epoch+1) % 10 == 0:\n",
        "        print(f\"Epoch [{epoch+1}/{num_epochs}], Loss: {running_loss/len(train_loader):.4f}\")\n",
        "\n",
        "model.eval()\n",
        "correct = 0\n",
        "total = 0\n",
        "\n",
        "with torch.no_grad():\n",
        "    for images, labels in val_loader:\n",
        "        images = images.to(device)\n",
        "        outputs = model(images)\n",
        "\n",
        "        labels = labels.to(device)\n",
        "        probs = torch.sigmoid(outputs)\n",
        "        predicted = (probs > 0.5).float()\n",
        "        correct += (predicted == labels).sum().item()\n",
        "        total += labels.numel()\n",
        "\n",
        "accuracy = 100 * correct / total\n",
        "print(f\"Validation Accuracy: {accuracy:.2f}%\")\n"
      ],
      "metadata": {
        "colab": {
          "base_uri": "https://localhost:8080/"
        },
        "id": "E7DP1qQ6y-XQ",
        "outputId": "7a0f45bb-56ef-4746-dab2-3808e6ebe3f4"
      },
      "execution_count": 57,
      "outputs": [
        {
          "output_type": "stream",
          "name": "stdout",
          "text": [
            "Epoch [10/100], Loss: 0.0510\n",
            "Epoch [20/100], Loss: 0.0443\n",
            "Epoch [30/100], Loss: 0.0298\n",
            "Epoch [40/100], Loss: 0.0260\n",
            "Epoch [50/100], Loss: 0.0365\n",
            "Epoch [60/100], Loss: 0.0284\n",
            "Epoch [70/100], Loss: 0.0233\n",
            "Epoch [80/100], Loss: 0.0265\n",
            "Epoch [90/100], Loss: 0.0233\n",
            "Epoch [100/100], Loss: 0.0325\n",
            "Validation Accuracy: 95.68%\n"
          ]
        }
      ]
    },
    {
      "cell_type": "code",
      "source": [
        "from calc_f1_max import count_f1_max"
      ],
      "metadata": {
        "id": "XsurhXuh5n4H"
      },
      "execution_count": 54,
      "outputs": []
    },
    {
      "cell_type": "code",
      "source": [
        "with open('tda_test.json', 'r') as file:\n",
        "    data_test = json.load(file)\n",
        "images_test = np.array([el[0] for el in data_test])\n",
        "labels_MF_test = np.array([el[1] for el in data_test])\n",
        "labels_BP_test = np.array([el[2] for el in data_test])[:, selected_classes]\n",
        "labels_CC_test = np.array([el[3] for el in data_test])\n",
        "dataset_test = TensorDataset(torch.Tensor(images_test), torch.Tensor(labels_BP_test))\n",
        "\n",
        "test_loader = DataLoader(dataset_test, batch_size=batch_size, shuffle=False)"
      ],
      "metadata": {
        "id": "VWJI84H1mlJV"
      },
      "execution_count": 56,
      "outputs": []
    },
    {
      "cell_type": "code",
      "source": [
        "model.eval()\n",
        "total_f1 = 0\n",
        "num_batches = 0\n",
        "with torch.no_grad():\n",
        "    for images, labels in test_loader:\n",
        "        labels = labels.to(device)\n",
        "\n",
        "        outputs = model(images)\n",
        "\n",
        "        probs = torch.sigmoid(outputs)\n",
        "\n",
        "        num_batches += 1\n",
        "        total_f1 += count_f1_max(probs.cpu().numpy(), labels.cpu().numpy())\n",
        "\n",
        "print(f\"F1_max on Test: {total_f1 / num_batches:.2f}\")"
      ],
      "metadata": {
        "colab": {
          "base_uri": "https://localhost:8080/"
        },
        "id": "2dK6yZIy6Ybx",
        "outputId": "f0cb97ea-0daa-4536-fe4a-cc24472cd050"
      },
      "execution_count": 59,
      "outputs": [
        {
          "output_type": "stream",
          "name": "stdout",
          "text": [
            "F1_max on Test: 0.51\n"
          ]
        }
      ]
    }
  ]
}