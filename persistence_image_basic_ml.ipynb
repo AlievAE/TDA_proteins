{
 "cells": [
  {
   "cell_type": "code",
   "execution_count": null,
   "metadata": {},
   "outputs": [],
   "source": [
    "import numpy as np\n",
    "from sklearn.neighbors import KNeighborsClassifier\n",
    "from sklearn.pipeline import Pipeline\n",
    "from sklearn.preprocessing import StandardScaler\n",
    "from sklearn.svm import SVC\n",
    "from sklearn.multioutput import MultiOutputClassifier"
   ]
  },
  {
   "cell_type": "code",
   "execution_count": 2,
   "metadata": {},
   "outputs": [
    {
     "data": {
      "text/plain": [
       "<module 'helper' from '/home/davinci/term3/ml_proj/helper.py'>"
      ]
     },
     "execution_count": 2,
     "metadata": {},
     "output_type": "execute_result"
    }
   ],
   "source": [
    "from importlib import reload\n",
    "import helper\n",
    "reload(helper)"
   ]
  },
  {
   "cell_type": "code",
   "execution_count": 3,
   "metadata": {},
   "outputs": [],
   "source": [
    "image_dir = './data/validation'\n",
    "label_dir = './data/validation_labels'\n",
    "\n",
    "y_MF, y_BP, y_CC = helper.load_dataset(image_dir, label_dir, cut_per_set=None)"
   ]
  },
  {
   "cell_type": "code",
   "execution_count": 4,
   "metadata": {},
   "outputs": [
    {
     "data": {
      "text/plain": [
       "((2904, 489), (2904, 1943), (2904, 320))"
      ]
     },
     "execution_count": 4,
     "metadata": {},
     "output_type": "execute_result"
    }
   ],
   "source": [
    "y_MF.shape, y_BP.shape, y_CC.shape"
   ]
  },
  {
   "cell_type": "code",
   "execution_count": 5,
   "metadata": {},
   "outputs": [],
   "source": [
    "X = np.load('./data/vectorization/validation.npz', allow_pickle=True)\n",
    "X = X['arr_0']"
   ]
  },
  {
   "cell_type": "code",
   "execution_count": 6,
   "metadata": {},
   "outputs": [],
   "source": [
    "X_train, X_test, y_train, y_test = helper.split_dataset(X, y_BP, test_size=.3)"
   ]
  },
  {
   "cell_type": "code",
   "execution_count": 7,
   "metadata": {},
   "outputs": [
    {
     "data": {
      "text/plain": [
       "((2032, 1720), (872, 1720))"
      ]
     },
     "execution_count": 7,
     "metadata": {},
     "output_type": "execute_result"
    }
   ],
   "source": [
    "y_train.shape, y_test.shape"
   ]
  },
  {
   "cell_type": "markdown",
   "metadata": {},
   "source": [
    "# Dimensionality reduction"
   ]
  },
  {
   "cell_type": "markdown",
   "metadata": {},
   "source": [
    "Let's figure out better way to reduce dimensionality. We will try: PCA, FastICA and Isomap (as in HW2). We will use KNeighbours to reduce training time."
   ]
  },
  {
   "cell_type": "markdown",
   "metadata": {},
   "source": [
    "### PCA"
   ]
  },
  {
   "cell_type": "code",
   "execution_count": null,
   "metadata": {},
   "outputs": [
    {
     "name": "stdout",
     "output_type": "stream",
     "text": [
      "0.19974\n"
     ]
    }
   ],
   "source": [
    "from sklearn.decomposition import PCA\n",
    "n_components = 256\n",
    "pipeline_pca = Pipeline([\n",
    "    ('scaler', StandardScaler()),\n",
    "    ('pca', PCA(n_components=n_components, random_state=42)),\n",
    "    ('clf', KNeighborsClassifier(n_neighbors=3, metric='cosine'))\n",
    "])\n",
    "\n",
    "pipeline_pca.fit(X_train, y_train)\n",
    "y_pred = pipeline_pca.predict(X_test)\n",
    "print(f\"{helper.count_f1_max(y_pred, y_test):.5f}\")"
   ]
  },
  {
   "cell_type": "code",
   "execution_count": null,
   "metadata": {},
   "outputs": [
    {
     "name": "stdout",
     "output_type": "stream",
     "text": [
      "0.20126\n"
     ]
    }
   ],
   "source": [
    "n_components = y_train.shape[-1] // 2\n",
    "pipeline_pca_bigger = Pipeline([\n",
    "    ('scaler', StandardScaler()),\n",
    "    ('pca', PCA(n_components=n_components, random_state=42)),\n",
    "    ('clf', KNeighborsClassifier(n_neighbors=3, metric='cosine'))\n",
    "])\n",
    "\n",
    "pipeline_pca_bigger.fit(X_train, y_train)\n",
    "y_pred = pipeline_pca_bigger.predict(X_test)\n",
    "print(f\"{helper.count_f1_max(y_pred, y_test):.5f}\")"
   ]
  },
  {
   "cell_type": "markdown",
   "metadata": {},
   "source": [
    "### ICA"
   ]
  },
  {
   "cell_type": "code",
   "execution_count": 10,
   "metadata": {},
   "outputs": [
    {
     "name": "stderr",
     "output_type": "stream",
     "text": [
      "/home/davinci/miniconda3/envs/py10/lib/python3.10/site-packages/sklearn/decomposition/_fastica.py:127: ConvergenceWarning: FastICA did not converge. Consider increasing tolerance or the maximum number of iterations.\n",
      "  warnings.warn(\n"
     ]
    },
    {
     "name": "stdout",
     "output_type": "stream",
     "text": [
      "0.28014\n"
     ]
    }
   ],
   "source": [
    "from sklearn.decomposition import FastICA\n",
    "n_components = 256\n",
    "pipeline_ica = Pipeline([\n",
    "    ('scaler', StandardScaler()),\n",
    "    ('ica', FastICA(n_components=n_components, random_state=42, max_iter=2_000)),\n",
    "    ('clf', KNeighborsClassifier(n_neighbors=3, metric='cosine'))\n",
    "])\n",
    "\n",
    "pipeline_ica.fit(X_train, y_train)\n",
    "y_pred = pipeline_ica.predict(X_test)\n",
    "print(f\"{helper.count_f1_max(y_pred, y_test):.5f}\")"
   ]
  },
  {
   "cell_type": "code",
   "execution_count": 11,
   "metadata": {},
   "outputs": [
    {
     "name": "stdout",
     "output_type": "stream",
     "text": [
      "0.24146\n"
     ]
    }
   ],
   "source": [
    "n_components = y_train.shape[-1] // 2\n",
    "pipeline_ica_bigger = Pipeline([\n",
    "    ('scaler', StandardScaler()),\n",
    "    ('ica', FastICA(n_components=n_components, random_state=42, max_iter=3_000)),\n",
    "    ('clf', KNeighborsClassifier(n_neighbors=3, metric='cosine'))\n",
    "])\n",
    "\n",
    "pipeline_ica_bigger.fit(X_train, y_train)\n",
    "y_pred = pipeline_ica_bigger.predict(X_test)\n",
    "print(f\"{helper.count_f1_max(y_pred, y_test):.5f}\")"
   ]
  },
  {
   "cell_type": "markdown",
   "metadata": {},
   "source": [
    "### Isomap"
   ]
  },
  {
   "cell_type": "code",
   "execution_count": null,
   "metadata": {},
   "outputs": [
    {
     "name": "stdout",
     "output_type": "stream",
     "text": [
      "0.14137\n"
     ]
    }
   ],
   "source": [
    "from sklearn.manifold import Isomap\n",
    "n_components = 256\n",
    "pipeline_isomap = Pipeline([\n",
    "    ('scaler', StandardScaler()),\n",
    "    ('isomap', Isomap(n_components=n_components, max_iter=1_000, n_jobs=10)),\n",
    "    ('clf', KNeighborsClassifier(n_neighbors=3, metric='cosine'))\n",
    "])\n",
    "\n",
    "pipeline_isomap.fit(X_train, y_train)\n",
    "y_pred = pipeline_isomap.predict(X_test)\n",
    "print(f\"{helper.count_f1_max(y_pred, y_test):.5f}\")"
   ]
  },
  {
   "cell_type": "code",
   "execution_count": null,
   "metadata": {},
   "outputs": [
    {
     "name": "stdout",
     "output_type": "stream",
     "text": [
      "0.15148\n"
     ]
    }
   ],
   "source": [
    "n_components = y_train.shape[-1] // 2\n",
    "pipeline_isomap_bigger = Pipeline([\n",
    "    ('scaler', StandardScaler()),\n",
    "    ('isomap', Isomap(n_components=n_components, max_iter=1_000, n_jobs=10)),\n",
    "    ('clf', KNeighborsClassifier(n_neighbors=3, metric='cosine'))\n",
    "])\n",
    "\n",
    "pipeline_isomap_bigger.fit(X_train, y_train)\n",
    "y_pred = pipeline_isomap_bigger.predict(X_test)\n",
    "print(f\"{helper.count_f1_max(y_pred, y_test):.5f}\")"
   ]
  },
  {
   "cell_type": "markdown",
   "metadata": {},
   "source": [
    "That's settled then. We will use \"small\" FastICA."
   ]
  },
  {
   "cell_type": "markdown",
   "metadata": {},
   "source": [
    "# SVC"
   ]
  },
  {
   "cell_type": "markdown",
   "metadata": {},
   "source": [
    "We will check out several SVC kernels: linear, RBF, sigmoid."
   ]
  },
  {
   "cell_type": "code",
   "execution_count": 9,
   "metadata": {},
   "outputs": [
    {
     "name": "stderr",
     "output_type": "stream",
     "text": [
      "/home/davinci/miniconda3/envs/py10/lib/python3.10/site-packages/sklearn/decomposition/_fastica.py:127: ConvergenceWarning: FastICA did not converge. Consider increasing tolerance or the maximum number of iterations.\n",
      "  warnings.warn(\n"
     ]
    },
    {
     "name": "stdout",
     "output_type": "stream",
     "text": [
      "0.12721\n"
     ]
    }
   ],
   "source": [
    "from sklearn.decomposition import FastICA\n",
    "n_components = 256\n",
    "pipeline_linear_svc = Pipeline([\n",
    "    ('scaler', StandardScaler()),\n",
    "    ('ica', FastICA(n_components=n_components, random_state=42, max_iter=3_000)),\n",
    "    ('clf', MultiOutputClassifier(SVC(kernel='linear', random_state=42)))\n",
    "])\n",
    "\n",
    "pipeline_linear_svc.fit(X_train, y_train)\n",
    "y_pred = pipeline_linear_svc.predict(X_test)\n",
    "print(f\"{helper.count_f1_max(y_pred, y_test):.5f}\")"
   ]
  },
  {
   "cell_type": "code",
   "execution_count": 10,
   "metadata": {},
   "outputs": [
    {
     "name": "stderr",
     "output_type": "stream",
     "text": [
      "/home/davinci/miniconda3/envs/py10/lib/python3.10/site-packages/sklearn/decomposition/_fastica.py:127: ConvergenceWarning: FastICA did not converge. Consider increasing tolerance or the maximum number of iterations.\n",
      "  warnings.warn(\n"
     ]
    },
    {
     "name": "stdout",
     "output_type": "stream",
     "text": [
      "0.05806\n"
     ]
    }
   ],
   "source": [
    "n_components = 256\n",
    "pipeline_rbf_svc = Pipeline([\n",
    "    ('scaler', StandardScaler()),\n",
    "    ('ica', FastICA(n_components=n_components, random_state=42, max_iter=3_000)),\n",
    "    ('clf', MultiOutputClassifier(SVC(kernel='rbf', random_state=42)))\n",
    "])\n",
    "\n",
    "pipeline_rbf_svc.fit(X_train, y_train)\n",
    "y_pred = pipeline_rbf_svc.predict(X_test)\n",
    "print(f\"{helper.count_f1_max(y_pred, y_test):.5f}\")"
   ]
  },
  {
   "cell_type": "code",
   "execution_count": 11,
   "metadata": {},
   "outputs": [
    {
     "name": "stderr",
     "output_type": "stream",
     "text": [
      "/home/davinci/miniconda3/envs/py10/lib/python3.10/site-packages/sklearn/decomposition/_fastica.py:127: ConvergenceWarning: FastICA did not converge. Consider increasing tolerance or the maximum number of iterations.\n",
      "  warnings.warn(\n"
     ]
    },
    {
     "name": "stdout",
     "output_type": "stream",
     "text": [
      "0.12583\n"
     ]
    }
   ],
   "source": [
    "n_components = 256\n",
    "pipeline_sigmoid_svc = Pipeline([\n",
    "    ('scaler', StandardScaler()),\n",
    "    ('ica', FastICA(n_components=n_components, random_state=42, max_iter=3_000)),\n",
    "    ('clf', MultiOutputClassifier(SVC(kernel='sigmoid', random_state=42)))\n",
    "])\n",
    "\n",
    "pipeline_sigmoid_svc.fit(X_train, y_train)\n",
    "y_pred = pipeline_sigmoid_svc.predict(X_test)\n",
    "print(f\"{helper.count_f1_max(y_pred, y_test):.5f}\")"
   ]
  },
  {
   "cell_type": "markdown",
   "metadata": {},
   "source": [
    "# Other ML models"
   ]
  },
  {
   "cell_type": "markdown",
   "metadata": {},
   "source": [
    "### RF"
   ]
  },
  {
   "cell_type": "code",
   "execution_count": 12,
   "metadata": {},
   "outputs": [
    {
     "name": "stderr",
     "output_type": "stream",
     "text": [
      "/home/davinci/miniconda3/envs/py10/lib/python3.10/site-packages/sklearn/decomposition/_fastica.py:127: ConvergenceWarning: FastICA did not converge. Consider increasing tolerance or the maximum number of iterations.\n",
      "  warnings.warn(\n"
     ]
    },
    {
     "name": "stdout",
     "output_type": "stream",
     "text": [
      "0.11835\n"
     ]
    }
   ],
   "source": [
    "from sklearn.ensemble import RandomForestClassifier\n",
    "from sklearn.decomposition import FastICA\n",
    "\n",
    "n_components = 256\n",
    "\n",
    "pipeline_rf = Pipeline([\n",
    "    ('scaler', StandardScaler()),\n",
    "    ('ica', FastICA(n_components=n_components, random_state=42, max_iter=3_000)),\n",
    "    ('clf', MultiOutputClassifier(RandomForestClassifier(random_state=42, n_jobs=10)))\n",
    "])\n",
    "\n",
    "pipeline_rf.fit(X_train, y_train)\n",
    "y_pred_rf = pipeline_rf.predict(X_test)\n",
    "print(f\"{helper.count_f1_max(y_pred_rf, y_test):.5f}\")"
   ]
  },
  {
   "cell_type": "markdown",
   "metadata": {},
   "source": [
    "### LogReg"
   ]
  },
  {
   "cell_type": "code",
   "execution_count": 13,
   "metadata": {},
   "outputs": [
    {
     "name": "stderr",
     "output_type": "stream",
     "text": [
      "/home/davinci/miniconda3/envs/py10/lib/python3.10/site-packages/sklearn/decomposition/_fastica.py:127: ConvergenceWarning: FastICA did not converge. Consider increasing tolerance or the maximum number of iterations.\n",
      "  warnings.warn(\n"
     ]
    },
    {
     "name": "stdout",
     "output_type": "stream",
     "text": [
      "0.15791\n"
     ]
    }
   ],
   "source": [
    "from sklearn.linear_model import LogisticRegression\n",
    "from sklearn.decomposition import FastICA\n",
    "\n",
    "n_components = 256\n",
    "\n",
    "pipeline_logreg = Pipeline([\n",
    "    ('scaler', StandardScaler()),\n",
    "    ('ica', FastICA(n_components=n_components, random_state=42, max_iter=3_000)),\n",
    "    ('clf', MultiOutputClassifier(LogisticRegression(random_state=42, max_iter=1_000, n_jobs=10)))\n",
    "])\n",
    "\n",
    "pipeline_logreg.fit(X_train, y_train)\n",
    "y_pred_logreg = pipeline_logreg.predict(X_test)\n",
    "print(f\"{helper.count_f1_max(y_pred_logreg, y_test):.5f}\")"
   ]
  },
  {
   "cell_type": "markdown",
   "metadata": {},
   "source": [
    "# Conclusion:\n",
    "Similar differnce in results between 3 classification problems (MF, CC, BP) were shown for different models. Thus, the best model is: KNN. And the best kernel among SVC kernels is linear.\n",
    "\n",
    "Script to get SVC results for all 3 problems is called `get_svc.py`."
   ]
  }
 ],
 "metadata": {
  "kernelspec": {
   "display_name": "py10",
   "language": "python",
   "name": "python3"
  },
  "language_info": {
   "codemirror_mode": {
    "name": "ipython",
    "version": 3
   },
   "file_extension": ".py",
   "mimetype": "text/x-python",
   "name": "python",
   "nbconvert_exporter": "python",
   "pygments_lexer": "ipython3",
   "version": "3.10.16"
  }
 },
 "nbformat": 4,
 "nbformat_minor": 2
}
