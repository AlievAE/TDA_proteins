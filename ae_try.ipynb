{
 "cells": [
  {
   "cell_type": "code",
   "execution_count": 1,
   "metadata": {},
   "outputs": [],
   "source": [
    "import numpy as np\n",
    "import matplotlib.pyplot as plt\n",
    "import torch\n",
    "from torch.utils.data import Dataset, DataLoader\n",
    "import os\n",
    "import torch.nn.functional as F\n",
    "from torchvision.models import inception_v3, Inception_V3_Weights\n",
    "from tqdm import tqdm\n",
    "from sklearn.model_selection import train_test_split\n",
    "from torch import nn"
   ]
  },
  {
   "cell_type": "code",
   "execution_count": 2,
   "metadata": {},
   "outputs": [],
   "source": [
    "class CustomDataset(Dataset):\n",
    "    def __init__(self, directory, cut):\n",
    "        self.directory = directory\n",
    "        self.cut_files = cut\n",
    "        self.file_paths = self._load_file_paths()\n",
    "        \n",
    "    def _load_file_paths(self):\n",
    "        files = [f for f in os.listdir(self.directory) if f.endswith('.npz')][:self.cut_files]\n",
    "        files.sort(key=lambda x: int(os.path.splitext(x)[0]))\n",
    "        return [os.path.join(self.directory, f) for f in files]\n",
    "\n",
    "    def __len__(self):\n",
    "        return len(self.file_paths)\n",
    "\n",
    "    def __getitem__(self, idx):\n",
    "        file_path = self.file_paths[idx]\n",
    "        data = np.load(file_path, allow_pickle=True)\n",
    "        images = data['images'].reshape(-1, 50, 50)  # Shape: (660, 50, 50)\n",
    "\n",
    "        images = (images / 127.5) - 1.0\n",
    "        images = torch.from_numpy(images).float()\n",
    "        images = images.unsqueeze(1)  # Shape: (660, 1, 50, 50)\n",
    "\n",
    "        filename = os.path.splitext(os.path.basename(file_path))[0]\n",
    "        return images, filename\n",
    "\n",
    "def create_dataloader(directory, cut, batch_size=1, num_workers=0):\n",
    "    dataset = CustomDataset(directory, cut)\n",
    "    return DataLoader(\n",
    "        dataset,\n",
    "        batch_size=batch_size,\n",
    "        shuffle=False,\n",
    "        num_workers=num_workers,\n",
    "        pin_memory=torch.cuda.is_available()\n",
    "    )"
   ]
  },
  {
   "cell_type": "code",
   "execution_count": 3,
   "metadata": {},
   "outputs": [],
   "source": [
    "class AutoEncoder(nn.Module):\n",
    "    def __init__(self, latent_dim=256):\n",
    "        super().__init__()\n",
    "        \n",
    "        # Encoder\n",
    "        self.encoder = nn.Sequential(\n",
    "            # Input: (1, 50, 50)\n",
    "            nn.Conv2d(1, 64, 5, stride=2, padding=2),  # 50 -> 25\n",
    "            nn.LeakyReLU(0.2),\n",
    "            nn.BatchNorm2d(64),\n",
    "            \n",
    "            nn.Conv2d(64, 128, 5, stride=2, padding=2),  # 25 -> 13\n",
    "            nn.LeakyReLU(0.2),\n",
    "            nn.BatchNorm2d(128),\n",
    "            \n",
    "            nn.Conv2d(128, 256, 3, stride=2, padding=1),  # 13 -> 7\n",
    "            nn.LeakyReLU(0.2),\n",
    "            nn.Flatten(),\n",
    "            nn.Linear(256*7*7, latent_dim)\n",
    "        )\n",
    "        # Decoder with precise dimension matching\n",
    "        self.decoder = nn.Sequential(\n",
    "            nn.Linear(latent_dim, 256*7*7),\n",
    "            nn.LeakyReLU(0.2),\n",
    "            nn.Unflatten(1, (256, 7, 7)),\n",
    "            \n",
    "            # 7x7 -> 13x13\n",
    "            nn.ConvTranspose2d(256, 128, 3, stride=2, padding=1, output_padding=0),\n",
    "            nn.LeakyReLU(0.2),\n",
    "            nn.BatchNorm2d(128),\n",
    "            \n",
    "            # 13x13 -> 25x25\n",
    "            nn.ConvTranspose2d(128, 64, 5, stride=2, padding=2, output_padding=0),\n",
    "            nn.LeakyReLU(0.2),\n",
    "            nn.BatchNorm2d(64),\n",
    "            \n",
    "            # 25x25 -> 50x50\n",
    "            nn.ConvTranspose2d(64, 1, 5, stride=2, padding=2, output_padding=1),\n",
    "            nn.Tanh()\n",
    "        )\n",
    "        \n",
    "        self._verify_dimensions()\n",
    "    \n",
    "    def _verify_dimensions(self):\n",
    "        \"\"\"Verify input-output dimension matching\"\"\"\n",
    "        test_input = torch.randn(1, 1, 50, 50)\n",
    "        with torch.no_grad():\n",
    "            output = self.forward(test_input)\n",
    "        assert output.shape == test_input.shape, \\\n",
    "            f\"Shape mismatch: {output.shape} vs {test_input.shape}\"\n",
    "\n",
    "    def forward(self, x):\n",
    "        latent = self.encoder(x)\n",
    "        return self.decoder(latent)"
   ]
  },
  {
   "cell_type": "code",
   "execution_count": 4,
   "metadata": {},
   "outputs": [],
   "source": [
    "class ExponentialDecayScheduler:\n",
    "    def __init__(self, optimizer, initial_lr, decay_rate, threshold=1e-4):\n",
    "        self.optimizer = optimizer\n",
    "        self.initial_lr = initial_lr\n",
    "        self.decay_rate = decay_rate\n",
    "        self.epoch = 0\n",
    "        self.threshold = threshold\n",
    "        \n",
    "        # Set initial learning rate\n",
    "        for param_group in self.optimizer.param_groups:\n",
    "            param_group['lr'] = initial_lr\n",
    "            \n",
    "    def step(self):\n",
    "        \"\"\"Update learning rate after each epoch\"\"\"\n",
    "        self.epoch += 1\n",
    "        new_lr = self.initial_lr * (self.decay_rate ** self.epoch)\n",
    "        if new_lr <= self.threshold:\n",
    "            new_lr = self.threshold\n",
    "        for param_group in self.optimizer.param_groups:\n",
    "            param_group['lr'] = new_lr\n",
    "        "
   ]
  },
  {
   "cell_type": "code",
   "execution_count": 5,
   "metadata": {},
   "outputs": [],
   "source": [
    "def train_autoencoder(model, train_loader, val_loader, optimizer, criterion, scheduler, epochs=50, device=torch.device('cpu')):\n",
    "    train_losses = []\n",
    "    val_losses = []\n",
    "    \n",
    "    for epoch in range(epochs):\n",
    "        # Training\n",
    "        model.train()\n",
    "        train_loss = 0.0\n",
    "        for batch, filename in tqdm(train_loader, desc=f\"Epoch {epoch+1}/{epochs} [Train]\"):\n",
    "            # batch shape: (B, 660, 1, 50, 50)\n",
    "            x = batch.view(-1, 1, 50, 50).to(device)  # Flatten to (B*660, 1, 50, 50)\n",
    "            \n",
    "            optimizer.zero_grad()\n",
    "            recon = model(x)\n",
    "            loss = criterion(recon, x)\n",
    "            loss.backward()\n",
    "            optimizer.step()\n",
    "            \n",
    "            train_loss += loss.item()\n",
    "        # Validation\n",
    "        model.eval()\n",
    "        val_loss = 0.0\n",
    "        with torch.no_grad():\n",
    "            for batch, filename in tqdm(val_loader, desc=f\"Epoch {epoch+1}/{epochs} [Val]\"):\n",
    "                x = batch.view(-1, 1, 50, 50).to(device)\n",
    "                recon = model(x)\n",
    "                val_loss += criterion(recon, x).item()\n",
    "        \n",
    "        # Calculate epoch losses\n",
    "        train_loss = train_loss / len(train_loader.dataset)\n",
    "        val_loss = val_loss / len(val_loader.dataset)\n",
    "        scheduler.step(val_loss)\n",
    "        train_losses.append(train_loss)\n",
    "        val_losses.append(val_loss)\n",
    "        \n",
    "        print(f\"Epoch {epoch+1} | Train Loss: {train_loss:.4f} | Val Loss: {val_loss:.4f}\")\n",
    "    \n",
    "    return train_losses, val_losses"
   ]
  },
  {
   "cell_type": "code",
   "execution_count": 6,
   "metadata": {},
   "outputs": [],
   "source": [
    "val_cut = 600\n",
    "test_cut = 200\n",
    "val_dir = './data/validation/'\n",
    "test_dir = './data/test/'\n",
    "\n",
    "train_loader = create_dataloader(val_dir, cut=val_cut, batch_size=8)\n",
    "val_loader = create_dataloader(test_dir, cut = test_cut, batch_size=8)"
   ]
  },
  {
   "cell_type": "code",
   "execution_count": 7,
   "metadata": {},
   "outputs": [
    {
     "name": "stderr",
     "output_type": "stream",
     "text": [
      "/home/davinci/miniconda3/envs/py10/lib/python3.10/site-packages/torch/optim/lr_scheduler.py:62: UserWarning: The verbose parameter is deprecated. Please use get_last_lr() to access the learning rate.\n",
      "  warnings.warn(\n",
      "Epoch 1/50 [Train]: 100%|██████████| 75/75 [02:10<00:00,  1.75s/it]\n",
      "Epoch 1/50 [Val]: 100%|██████████| 25/25 [00:19<00:00,  1.31it/s]\n"
     ]
    },
    {
     "name": "stdout",
     "output_type": "stream",
     "text": [
      "Epoch 1 | Train Loss: 7651.2712 | Val Loss: 11930.7119\n"
     ]
    },
    {
     "name": "stderr",
     "output_type": "stream",
     "text": [
      "Epoch 2/50 [Train]: 100%|██████████| 75/75 [02:02<00:00,  1.63s/it]\n",
      "Epoch 2/50 [Val]: 100%|██████████| 25/25 [00:18<00:00,  1.39it/s]\n"
     ]
    },
    {
     "name": "stdout",
     "output_type": "stream",
     "text": [
      "Epoch 2 | Train Loss: 7651.0937 | Val Loss: 11930.7119\n"
     ]
    },
    {
     "name": "stderr",
     "output_type": "stream",
     "text": [
      "Epoch 3/50 [Train]: 100%|██████████| 75/75 [02:01<00:00,  1.61s/it]\n",
      "Epoch 3/50 [Val]: 100%|██████████| 25/25 [00:16<00:00,  1.51it/s]\n"
     ]
    },
    {
     "name": "stdout",
     "output_type": "stream",
     "text": [
      "Epoch 3 | Train Loss: 7651.0937 | Val Loss: 11930.7119\n"
     ]
    },
    {
     "name": "stderr",
     "output_type": "stream",
     "text": [
      "Epoch 4/50 [Train]: 100%|██████████| 75/75 [02:00<00:00,  1.61s/it]\n",
      "Epoch 4/50 [Val]: 100%|██████████| 25/25 [00:17<00:00,  1.41it/s]\n"
     ]
    },
    {
     "name": "stdout",
     "output_type": "stream",
     "text": [
      "Epoch 4 | Train Loss: 7651.0937 | Val Loss: 11930.7119\n"
     ]
    },
    {
     "name": "stderr",
     "output_type": "stream",
     "text": [
      "Epoch 5/50 [Train]: 100%|██████████| 75/75 [02:01<00:00,  1.62s/it]\n",
      "Epoch 5/50 [Val]: 100%|██████████| 25/25 [00:16<00:00,  1.49it/s]\n"
     ]
    },
    {
     "name": "stdout",
     "output_type": "stream",
     "text": [
      "Epoch 5 | Train Loss: 7651.0937 | Val Loss: 11930.7119\n"
     ]
    },
    {
     "name": "stderr",
     "output_type": "stream",
     "text": [
      "Epoch 6/50 [Train]: 100%|██████████| 75/75 [02:02<00:00,  1.63s/it]\n",
      "Epoch 6/50 [Val]: 100%|██████████| 25/25 [00:16<00:00,  1.53it/s]\n"
     ]
    },
    {
     "name": "stdout",
     "output_type": "stream",
     "text": [
      "Epoch 6 | Train Loss: 7651.0937 | Val Loss: 11930.7119\n"
     ]
    },
    {
     "name": "stderr",
     "output_type": "stream",
     "text": [
      "Epoch 7/50 [Train]: 100%|██████████| 75/75 [02:01<00:00,  1.62s/it]\n",
      "Epoch 7/50 [Val]: 100%|██████████| 25/25 [00:16<00:00,  1.52it/s]\n"
     ]
    },
    {
     "name": "stdout",
     "output_type": "stream",
     "text": [
      "Epoch 7 | Train Loss: 7651.0937 | Val Loss: 11930.7119\n"
     ]
    },
    {
     "name": "stderr",
     "output_type": "stream",
     "text": [
      "Epoch 8/50 [Train]: 100%|██████████| 75/75 [02:01<00:00,  1.63s/it]\n",
      "Epoch 8/50 [Val]: 100%|██████████| 25/25 [00:16<00:00,  1.52it/s]\n"
     ]
    },
    {
     "name": "stdout",
     "output_type": "stream",
     "text": [
      "Epoch 8 | Train Loss: 7651.0937 | Val Loss: 11930.7119\n"
     ]
    },
    {
     "name": "stderr",
     "output_type": "stream",
     "text": [
      "Epoch 9/50 [Train]: 100%|██████████| 75/75 [02:00<00:00,  1.60s/it]\n",
      "Epoch 9/50 [Val]: 100%|██████████| 25/25 [00:17<00:00,  1.40it/s]\n"
     ]
    },
    {
     "name": "stdout",
     "output_type": "stream",
     "text": [
      "Epoch 9 | Train Loss: 7651.0937 | Val Loss: 11930.7119\n"
     ]
    },
    {
     "name": "stderr",
     "output_type": "stream",
     "text": [
      "Epoch 10/50 [Train]: 100%|██████████| 75/75 [02:00<00:00,  1.60s/it]\n",
      "Epoch 10/50 [Val]: 100%|██████████| 25/25 [00:16<00:00,  1.53it/s]\n"
     ]
    },
    {
     "name": "stdout",
     "output_type": "stream",
     "text": [
      "Epoch 10 | Train Loss: 7651.0937 | Val Loss: 11930.7119\n"
     ]
    },
    {
     "name": "stderr",
     "output_type": "stream",
     "text": [
      "Epoch 11/50 [Train]: 100%|██████████| 75/75 [02:00<00:00,  1.60s/it]\n",
      "Epoch 11/50 [Val]: 100%|██████████| 25/25 [00:17<00:00,  1.40it/s]\n"
     ]
    },
    {
     "name": "stdout",
     "output_type": "stream",
     "text": [
      "Epoch 11 | Train Loss: 7651.0937 | Val Loss: 11930.7119\n"
     ]
    },
    {
     "name": "stderr",
     "output_type": "stream",
     "text": [
      "Epoch 12/50 [Train]: 100%|██████████| 75/75 [01:59<00:00,  1.59s/it]\n",
      "Epoch 12/50 [Val]: 100%|██████████| 25/25 [00:17<00:00,  1.40it/s]\n"
     ]
    },
    {
     "name": "stdout",
     "output_type": "stream",
     "text": [
      "Epoch 12 | Train Loss: 7651.0937 | Val Loss: 11930.7119\n"
     ]
    },
    {
     "name": "stderr",
     "output_type": "stream",
     "text": [
      "Epoch 13/50 [Train]: 100%|██████████| 75/75 [02:00<00:00,  1.61s/it]\n",
      "Epoch 13/50 [Val]: 100%|██████████| 25/25 [00:16<00:00,  1.54it/s]\n"
     ]
    },
    {
     "name": "stdout",
     "output_type": "stream",
     "text": [
      "Epoch 13 | Train Loss: 7651.0937 | Val Loss: 11930.7119\n"
     ]
    },
    {
     "name": "stderr",
     "output_type": "stream",
     "text": [
      "Epoch 14/50 [Train]: 100%|██████████| 75/75 [02:00<00:00,  1.60s/it]\n",
      "Epoch 14/50 [Val]: 100%|██████████| 25/25 [00:17<00:00,  1.40it/s]\n"
     ]
    },
    {
     "name": "stdout",
     "output_type": "stream",
     "text": [
      "Epoch 14 | Train Loss: 7651.0937 | Val Loss: 11930.7119\n"
     ]
    },
    {
     "name": "stderr",
     "output_type": "stream",
     "text": [
      "Epoch 15/50 [Train]: 100%|██████████| 75/75 [02:00<00:00,  1.60s/it]\n",
      "Epoch 15/50 [Val]: 100%|██████████| 25/25 [00:16<00:00,  1.54it/s]\n"
     ]
    },
    {
     "name": "stdout",
     "output_type": "stream",
     "text": [
      "Epoch 15 | Train Loss: 7651.0937 | Val Loss: 11930.7119\n"
     ]
    },
    {
     "name": "stderr",
     "output_type": "stream",
     "text": [
      "Epoch 16/50 [Train]: 100%|██████████| 75/75 [02:00<00:00,  1.60s/it]\n",
      "Epoch 16/50 [Val]: 100%|██████████| 25/25 [00:17<00:00,  1.41it/s]\n"
     ]
    },
    {
     "name": "stdout",
     "output_type": "stream",
     "text": [
      "Epoch 16 | Train Loss: 7651.0937 | Val Loss: 11930.7119\n"
     ]
    },
    {
     "name": "stderr",
     "output_type": "stream",
     "text": [
      "Epoch 17/50 [Train]: 100%|██████████| 75/75 [02:00<00:00,  1.61s/it]\n",
      "Epoch 17/50 [Val]: 100%|██████████| 25/25 [00:16<00:00,  1.53it/s]\n"
     ]
    },
    {
     "name": "stdout",
     "output_type": "stream",
     "text": [
      "Epoch 17 | Train Loss: 7651.0937 | Val Loss: 11930.7119\n"
     ]
    },
    {
     "name": "stderr",
     "output_type": "stream",
     "text": [
      "Epoch 18/50 [Train]: 100%|██████████| 75/75 [02:00<00:00,  1.61s/it]\n",
      "Epoch 18/50 [Val]: 100%|██████████| 25/25 [00:17<00:00,  1.40it/s]\n"
     ]
    },
    {
     "name": "stdout",
     "output_type": "stream",
     "text": [
      "Epoch 18 | Train Loss: 7651.0937 | Val Loss: 11930.7119\n"
     ]
    },
    {
     "name": "stderr",
     "output_type": "stream",
     "text": [
      "Epoch 19/50 [Train]: 100%|██████████| 75/75 [02:00<00:00,  1.61s/it]\n",
      "Epoch 19/50 [Val]: 100%|██████████| 25/25 [00:16<00:00,  1.53it/s]\n"
     ]
    },
    {
     "name": "stdout",
     "output_type": "stream",
     "text": [
      "Epoch 19 | Train Loss: 7651.0937 | Val Loss: 11930.7119\n"
     ]
    },
    {
     "name": "stderr",
     "output_type": "stream",
     "text": [
      "Epoch 20/50 [Train]: 100%|██████████| 75/75 [02:01<00:00,  1.62s/it]\n",
      "Epoch 20/50 [Val]: 100%|██████████| 25/25 [00:17<00:00,  1.39it/s]\n"
     ]
    },
    {
     "name": "stdout",
     "output_type": "stream",
     "text": [
      "Epoch 20 | Train Loss: 7651.0937 | Val Loss: 11930.7119\n"
     ]
    },
    {
     "name": "stderr",
     "output_type": "stream",
     "text": [
      "Epoch 21/50 [Train]: 100%|██████████| 75/75 [02:00<00:00,  1.61s/it]\n",
      "Epoch 21/50 [Val]: 100%|██████████| 25/25 [00:16<00:00,  1.53it/s]\n"
     ]
    },
    {
     "name": "stdout",
     "output_type": "stream",
     "text": [
      "Epoch 21 | Train Loss: 7651.0937 | Val Loss: 11930.7119\n"
     ]
    },
    {
     "name": "stderr",
     "output_type": "stream",
     "text": [
      "Epoch 22/50 [Train]: 100%|██████████| 75/75 [02:00<00:00,  1.61s/it]\n",
      "Epoch 22/50 [Val]: 100%|██████████| 25/25 [00:17<00:00,  1.40it/s]\n"
     ]
    },
    {
     "name": "stdout",
     "output_type": "stream",
     "text": [
      "Epoch 22 | Train Loss: 7651.0937 | Val Loss: 11930.7119\n"
     ]
    },
    {
     "name": "stderr",
     "output_type": "stream",
     "text": [
      "Epoch 23/50 [Train]: 100%|██████████| 75/75 [02:00<00:00,  1.60s/it]\n",
      "Epoch 23/50 [Val]: 100%|██████████| 25/25 [00:16<00:00,  1.54it/s]\n"
     ]
    },
    {
     "name": "stdout",
     "output_type": "stream",
     "text": [
      "Epoch 23 | Train Loss: 7651.0937 | Val Loss: 11930.7119\n"
     ]
    },
    {
     "name": "stderr",
     "output_type": "stream",
     "text": [
      "Epoch 24/50 [Train]: 100%|██████████| 75/75 [02:00<00:00,  1.60s/it]\n",
      "Epoch 24/50 [Val]: 100%|██████████| 25/25 [00:17<00:00,  1.40it/s]\n"
     ]
    },
    {
     "name": "stdout",
     "output_type": "stream",
     "text": [
      "Epoch 24 | Train Loss: 7651.0937 | Val Loss: 11930.7119\n"
     ]
    },
    {
     "name": "stderr",
     "output_type": "stream",
     "text": [
      "Epoch 25/50 [Train]: 100%|██████████| 75/75 [02:00<00:00,  1.60s/it]\n",
      "Epoch 25/50 [Val]: 100%|██████████| 25/25 [00:16<00:00,  1.54it/s]\n"
     ]
    },
    {
     "name": "stdout",
     "output_type": "stream",
     "text": [
      "Epoch 25 | Train Loss: 7651.0937 | Val Loss: 11930.7119\n"
     ]
    },
    {
     "name": "stderr",
     "output_type": "stream",
     "text": [
      "Epoch 26/50 [Train]: 100%|██████████| 75/75 [02:02<00:00,  1.63s/it]\n",
      "Epoch 26/50 [Val]: 100%|██████████| 25/25 [00:16<00:00,  1.54it/s]\n"
     ]
    },
    {
     "name": "stdout",
     "output_type": "stream",
     "text": [
      "Epoch 26 | Train Loss: 7651.0937 | Val Loss: 11930.7119\n"
     ]
    },
    {
     "name": "stderr",
     "output_type": "stream",
     "text": [
      "Epoch 27/50 [Train]: 100%|██████████| 75/75 [02:00<00:00,  1.60s/it]\n",
      "Epoch 27/50 [Val]: 100%|██████████| 25/25 [00:16<00:00,  1.54it/s]\n"
     ]
    },
    {
     "name": "stdout",
     "output_type": "stream",
     "text": [
      "Epoch 27 | Train Loss: 7651.0937 | Val Loss: 11930.7119\n"
     ]
    },
    {
     "name": "stderr",
     "output_type": "stream",
     "text": [
      "Epoch 28/50 [Train]: 100%|██████████| 75/75 [02:01<00:00,  1.63s/it]\n",
      "Epoch 28/50 [Val]: 100%|██████████| 25/25 [00:16<00:00,  1.54it/s]\n"
     ]
    },
    {
     "name": "stdout",
     "output_type": "stream",
     "text": [
      "Epoch 28 | Train Loss: 7651.0937 | Val Loss: 11930.7119\n"
     ]
    },
    {
     "name": "stderr",
     "output_type": "stream",
     "text": [
      "Epoch 29/50 [Train]: 100%|██████████| 75/75 [02:00<00:00,  1.61s/it]\n",
      "Epoch 29/50 [Val]: 100%|██████████| 25/25 [00:16<00:00,  1.54it/s]\n"
     ]
    },
    {
     "name": "stdout",
     "output_type": "stream",
     "text": [
      "Epoch 29 | Train Loss: 7651.0937 | Val Loss: 11930.7119\n"
     ]
    },
    {
     "name": "stderr",
     "output_type": "stream",
     "text": [
      "Epoch 30/50 [Train]: 100%|██████████| 75/75 [02:01<00:00,  1.63s/it]\n",
      "Epoch 30/50 [Val]: 100%|██████████| 25/25 [00:16<00:00,  1.54it/s]\n"
     ]
    },
    {
     "name": "stdout",
     "output_type": "stream",
     "text": [
      "Epoch 30 | Train Loss: 7651.0937 | Val Loss: 11930.7119\n"
     ]
    },
    {
     "name": "stderr",
     "output_type": "stream",
     "text": [
      "Epoch 31/50 [Train]: 100%|██████████| 75/75 [02:00<00:00,  1.61s/it]\n",
      "Epoch 31/50 [Val]: 100%|██████████| 25/25 [00:17<00:00,  1.40it/s]\n"
     ]
    },
    {
     "name": "stdout",
     "output_type": "stream",
     "text": [
      "Epoch 31 | Train Loss: 7651.0937 | Val Loss: 11930.7119\n"
     ]
    },
    {
     "name": "stderr",
     "output_type": "stream",
     "text": [
      "Epoch 32/50 [Train]: 100%|██████████| 75/75 [02:00<00:00,  1.61s/it]\n",
      "Epoch 32/50 [Val]: 100%|██████████| 25/25 [00:16<00:00,  1.55it/s]\n"
     ]
    },
    {
     "name": "stdout",
     "output_type": "stream",
     "text": [
      "Epoch 32 | Train Loss: 7651.0937 | Val Loss: 11930.7119\n"
     ]
    },
    {
     "name": "stderr",
     "output_type": "stream",
     "text": [
      "Epoch 33/50 [Train]: 100%|██████████| 75/75 [02:00<00:00,  1.61s/it]\n",
      "Epoch 33/50 [Val]: 100%|██████████| 25/25 [00:17<00:00,  1.40it/s]\n"
     ]
    },
    {
     "name": "stdout",
     "output_type": "stream",
     "text": [
      "Epoch 33 | Train Loss: 7651.0937 | Val Loss: 11930.7119\n"
     ]
    },
    {
     "name": "stderr",
     "output_type": "stream",
     "text": [
      "Epoch 34/50 [Train]: 100%|██████████| 75/75 [02:00<00:00,  1.60s/it]\n",
      "Epoch 34/50 [Val]: 100%|██████████| 25/25 [00:16<00:00,  1.54it/s]\n"
     ]
    },
    {
     "name": "stdout",
     "output_type": "stream",
     "text": [
      "Epoch 34 | Train Loss: 7651.0937 | Val Loss: 11930.7119\n"
     ]
    },
    {
     "name": "stderr",
     "output_type": "stream",
     "text": [
      "Epoch 35/50 [Train]: 100%|██████████| 75/75 [02:00<00:00,  1.60s/it]\n",
      "Epoch 35/50 [Val]: 100%|██████████| 25/25 [00:17<00:00,  1.40it/s]\n"
     ]
    },
    {
     "name": "stdout",
     "output_type": "stream",
     "text": [
      "Epoch 35 | Train Loss: 7651.0937 | Val Loss: 11930.7119\n"
     ]
    },
    {
     "name": "stderr",
     "output_type": "stream",
     "text": [
      "Epoch 36/50 [Train]: 100%|██████████| 75/75 [02:00<00:00,  1.60s/it]\n",
      "Epoch 36/50 [Val]: 100%|██████████| 25/25 [00:16<00:00,  1.54it/s]\n"
     ]
    },
    {
     "name": "stdout",
     "output_type": "stream",
     "text": [
      "Epoch 36 | Train Loss: 7651.0937 | Val Loss: 11930.7119\n"
     ]
    },
    {
     "name": "stderr",
     "output_type": "stream",
     "text": [
      "Epoch 37/50 [Train]: 100%|██████████| 75/75 [02:00<00:00,  1.60s/it]\n",
      "Epoch 37/50 [Val]: 100%|██████████| 25/25 [00:17<00:00,  1.40it/s]\n"
     ]
    },
    {
     "name": "stdout",
     "output_type": "stream",
     "text": [
      "Epoch 37 | Train Loss: 7651.0937 | Val Loss: 11930.7119\n"
     ]
    },
    {
     "name": "stderr",
     "output_type": "stream",
     "text": [
      "Epoch 38/50 [Train]: 100%|██████████| 75/75 [02:00<00:00,  1.60s/it]\n",
      "Epoch 38/50 [Val]: 100%|██████████| 25/25 [00:16<00:00,  1.54it/s]\n"
     ]
    },
    {
     "name": "stdout",
     "output_type": "stream",
     "text": [
      "Epoch 38 | Train Loss: 7651.0937 | Val Loss: 11930.7119\n"
     ]
    },
    {
     "name": "stderr",
     "output_type": "stream",
     "text": [
      "Epoch 39/50 [Train]: 100%|██████████| 75/75 [02:00<00:00,  1.61s/it]\n",
      "Epoch 39/50 [Val]: 100%|██████████| 25/25 [00:17<00:00,  1.40it/s]\n"
     ]
    },
    {
     "name": "stdout",
     "output_type": "stream",
     "text": [
      "Epoch 39 | Train Loss: 7651.0937 | Val Loss: 11930.7119\n"
     ]
    },
    {
     "name": "stderr",
     "output_type": "stream",
     "text": [
      "Epoch 40/50 [Train]: 100%|██████████| 75/75 [02:00<00:00,  1.60s/it]\n",
      "Epoch 40/50 [Val]: 100%|██████████| 25/25 [00:16<00:00,  1.54it/s]\n"
     ]
    },
    {
     "name": "stdout",
     "output_type": "stream",
     "text": [
      "Epoch 40 | Train Loss: 7651.0937 | Val Loss: 11930.7119\n"
     ]
    },
    {
     "name": "stderr",
     "output_type": "stream",
     "text": [
      "Epoch 41/50 [Train]: 100%|██████████| 75/75 [02:00<00:00,  1.60s/it]\n",
      "Epoch 41/50 [Val]: 100%|██████████| 25/25 [00:17<00:00,  1.39it/s]\n"
     ]
    },
    {
     "name": "stdout",
     "output_type": "stream",
     "text": [
      "Epoch 41 | Train Loss: 7651.0937 | Val Loss: 11930.7119\n"
     ]
    },
    {
     "name": "stderr",
     "output_type": "stream",
     "text": [
      "Epoch 42/50 [Train]: 100%|██████████| 75/75 [02:00<00:00,  1.60s/it]\n",
      "Epoch 42/50 [Val]: 100%|██████████| 25/25 [00:16<00:00,  1.54it/s]\n"
     ]
    },
    {
     "name": "stdout",
     "output_type": "stream",
     "text": [
      "Epoch 42 | Train Loss: 7651.0937 | Val Loss: 11930.7119\n"
     ]
    },
    {
     "name": "stderr",
     "output_type": "stream",
     "text": [
      "Epoch 43/50 [Train]: 100%|██████████| 75/75 [02:00<00:00,  1.60s/it]\n",
      "Epoch 43/50 [Val]: 100%|██████████| 25/25 [00:17<00:00,  1.40it/s]\n"
     ]
    },
    {
     "name": "stdout",
     "output_type": "stream",
     "text": [
      "Epoch 43 | Train Loss: 7651.0937 | Val Loss: 11930.7119\n"
     ]
    },
    {
     "name": "stderr",
     "output_type": "stream",
     "text": [
      "Epoch 44/50 [Train]: 100%|██████████| 75/75 [02:00<00:00,  1.61s/it]\n",
      "Epoch 44/50 [Val]: 100%|██████████| 25/25 [00:16<00:00,  1.54it/s]\n"
     ]
    },
    {
     "name": "stdout",
     "output_type": "stream",
     "text": [
      "Epoch 44 | Train Loss: 7651.0937 | Val Loss: 11930.7119\n"
     ]
    },
    {
     "name": "stderr",
     "output_type": "stream",
     "text": [
      "Epoch 45/50 [Train]: 100%|██████████| 75/75 [02:00<00:00,  1.61s/it]\n",
      "Epoch 45/50 [Val]: 100%|██████████| 25/25 [00:17<00:00,  1.39it/s]\n"
     ]
    },
    {
     "name": "stdout",
     "output_type": "stream",
     "text": [
      "Epoch 45 | Train Loss: 7651.0937 | Val Loss: 11930.7119\n"
     ]
    },
    {
     "name": "stderr",
     "output_type": "stream",
     "text": [
      "Epoch 46/50 [Train]: 100%|██████████| 75/75 [02:00<00:00,  1.61s/it]\n",
      "Epoch 46/50 [Val]: 100%|██████████| 25/25 [00:16<00:00,  1.55it/s]\n"
     ]
    },
    {
     "name": "stdout",
     "output_type": "stream",
     "text": [
      "Epoch 46 | Train Loss: 7651.0937 | Val Loss: 11930.7119\n"
     ]
    },
    {
     "name": "stderr",
     "output_type": "stream",
     "text": [
      "Epoch 47/50 [Train]: 100%|██████████| 75/75 [02:00<00:00,  1.61s/it]\n",
      "Epoch 47/50 [Val]: 100%|██████████| 25/25 [00:17<00:00,  1.39it/s]\n"
     ]
    },
    {
     "name": "stdout",
     "output_type": "stream",
     "text": [
      "Epoch 47 | Train Loss: 7651.0937 | Val Loss: 11930.7119\n"
     ]
    },
    {
     "name": "stderr",
     "output_type": "stream",
     "text": [
      "Epoch 48/50 [Train]: 100%|██████████| 75/75 [02:00<00:00,  1.61s/it]\n",
      "Epoch 48/50 [Val]: 100%|██████████| 25/25 [00:16<00:00,  1.55it/s]\n"
     ]
    },
    {
     "name": "stdout",
     "output_type": "stream",
     "text": [
      "Epoch 48 | Train Loss: 7651.0937 | Val Loss: 11930.7119\n"
     ]
    },
    {
     "name": "stderr",
     "output_type": "stream",
     "text": [
      "Epoch 49/50 [Train]: 100%|██████████| 75/75 [02:00<00:00,  1.60s/it]\n",
      "Epoch 49/50 [Val]: 100%|██████████| 25/25 [00:17<00:00,  1.39it/s]\n"
     ]
    },
    {
     "name": "stdout",
     "output_type": "stream",
     "text": [
      "Epoch 49 | Train Loss: 7651.0937 | Val Loss: 11930.7119\n"
     ]
    },
    {
     "name": "stderr",
     "output_type": "stream",
     "text": [
      "Epoch 50/50 [Train]: 100%|██████████| 75/75 [02:00<00:00,  1.60s/it]\n",
      "Epoch 50/50 [Val]: 100%|██████████| 25/25 [00:16<00:00,  1.55it/s]"
     ]
    },
    {
     "name": "stdout",
     "output_type": "stream",
     "text": [
      "Epoch 50 | Train Loss: 7651.0937 | Val Loss: 11930.7119\n"
     ]
    },
    {
     "name": "stderr",
     "output_type": "stream",
     "text": [
      "\n"
     ]
    }
   ],
   "source": [
    "from torch.optim.lr_scheduler import ReduceLROnPlateau\n",
    "device = torch.device('cuda' if torch.cuda.is_available() else 'cpu')\n",
    "model = AutoEncoder(latent_dim=256).to(device)\n",
    "optimizer = torch.optim.Adam(model.parameters(), lr=1)\n",
    "criterion = nn.MSELoss()\n",
    "\n",
    "scheduler = ReduceLROnPlateau(\n",
    "    optimizer, \n",
    "    mode='min', \n",
    "    factor=0.1,\n",
    "    patience=2,\n",
    "    verbose=True\n",
    ")\n",
    "\n",
    "\n",
    "train_loss, val_loss = train_autoencoder(\n",
    "    model=model,\n",
    "    train_loader=train_loader,\n",
    "    val_loader=val_loader,\n",
    "    optimizer=optimizer,\n",
    "    criterion=criterion,\n",
    "    scheduler=scheduler,\n",
    "    epochs=50,\n",
    "    device=device\n",
    ")"
   ]
  },
  {
   "cell_type": "code",
   "execution_count": 8,
   "metadata": {},
   "outputs": [],
   "source": [
    "import random\n",
    "\n",
    "def visualize_reconstruction(model, dataset, device, num_examples=3):\n",
    "    \"\"\"\n",
    "    Visualizes original vs reconstructed images from the dataset\n",
    "    Args:\n",
    "        model: Trained AutoEncoder\n",
    "        dataset: Your CustomDataset instance\n",
    "        device: torch device\n",
    "        num_examples: Number of examples to display\n",
    "    \"\"\"\n",
    "    model.eval()\n",
    "    fig, axs = plt.subplots(num_examples, 2, figsize=(8, 4*num_examples))\n",
    "    \n",
    "    with torch.no_grad():\n",
    "        for i in range(num_examples):\n",
    "            # Select random file and image\n",
    "            file_idx = random.randint(0, len(dataset)-1)\n",
    "            file_images = dataset[file_idx][0]  # Get all images from file (660, 1, 50, 50)\n",
    "            \n",
    "            # Select random image from the file\n",
    "            img_idx = random.randint(0, 659)\n",
    "            original = file_images[img_idx].unsqueeze(0).to(device)  # (1, 1, 50, 50)\n",
    "            \n",
    "            # Get reconstruction\n",
    "            reconstructed = model(original)\n",
    "            \n",
    "            # Denormalize if using [-1, 1] normalization\n",
    "            original = (original.squeeze().cpu() * 127.5 + 127.5).numpy().astype(np.uint8)\n",
    "            reconstructed = (reconstructed.squeeze().cpu() * 127.5 + 127.5).numpy().astype(np.uint8)\n",
    "            \n",
    "            # Plot\n",
    "            axs[i, 0].imshow(original, cmap='jet')\n",
    "            axs[i, 0].set_title(f\"Original\\nFile: {dataset.file_paths[file_idx]}\")\n",
    "            axs[i, 0].axis('off')\n",
    "            \n",
    "            axs[i, 1].imshow(reconstructed, cmap='jet')\n",
    "            axs[i, 1].set_title(\"Reconstructed\")\n",
    "            axs[i, 1].axis('off')\n",
    "\n",
    "    plt.tight_layout()\n",
    "    plt.show()"
   ]
  },
  {
   "cell_type": "code",
   "execution_count": 9,
   "metadata": {},
   "outputs": [
    {
     "data": {
      "image/png": "[encoded data removed]",
      "text/plain": [
       "<Figure size 800x1200 with 6 Axes>"
      ]
     },
     "metadata": {},
     "output_type": "display_data"
    }
   ],
   "source": [
    "train_dataset = CustomDataset(val_dir, val_cut)\n",
    "visualize_reconstruction(model, train_dataset, device)"
   ]
  },
  {
   "cell_type": "code",
   "execution_count": 10,
   "metadata": {},
   "outputs": [
    {
     "data": {
      "image/png": "[encoded data removed]",
      "text/plain": [
       "<Figure size 1000x500 with 1 Axes>"
      ]
     },
     "metadata": {},
     "output_type": "display_data"
    }
   ],
   "source": [
    "plt.figure(figsize=(10, 5))\n",
    "plt.plot(train_loss, label='Training Loss')\n",
    "plt.plot(val_loss, label='Validation Loss')\n",
    "plt.xlabel('Epoch')\n",
    "plt.ylabel('Loss')\n",
    "plt.legend()\n",
    "plt.show()"
   ]
  },
  {
   "cell_type": "code",
   "execution_count": null,
   "metadata": {},
   "outputs": [],
   "source": [
    "#torch.save(model.state_dict(), 'best_autoencoder.pth')"
   ]
  },
  {
   "cell_type": "code",
   "execution_count": null,
   "metadata": {},
   "outputs": [],
   "source": [
    "# def vectorize_file(file_path, model):\n",
    "#     data = np.load(file_path, allow_pickle=True)\n",
    "#     images = torch.from_numpy(data['images']).float().unsqueeze(1).to(device)  # (660, 1, 50, 50)\n",
    "#     with torch.no_grad():\n",
    "#         latents = model.encoder(images)  # (660, latent_dim)\n",
    "#     return torch.mean(latents, dim=0).cpu().numpy()  # (latent_dim,)"
   ]
  }
 ],
 "metadata": {
  "kernelspec": {
   "display_name": "py10",
   "language": "python",
   "name": "python3"
  },
  "language_info": {
   "codemirror_mode": {
    "name": "ipython",
    "version": 3
   },
   "file_extension": ".py",
   "mimetype": "text/x-python",
   "name": "python",
   "nbconvert_exporter": "python",
   "pygments_lexer": "ipython3",
   "version": "3.10.16"
  }
 },
 "nbformat": 4,
 "nbformat_minor": 2
}
