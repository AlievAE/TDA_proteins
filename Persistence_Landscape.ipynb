{
 "cells": [
  {
   "cell_type": "code",
   "execution_count": 1,
   "id": "e8630c2d-bed8-422a-a336-1fe79b017140",
   "metadata": {},
   "outputs": [],
   "source": [
    "import os\n",
    "import numpy as np\n",
    "import pickle\n",
    "import pandas as pd\n",
    "import gc"
   ]
  },
  {
   "cell_type": "markdown",
   "id": "b3f81367-b855-45a4-8d20-0e1c029f37eb",
   "metadata": {},
   "source": [
    "### Load files by batches into .parquet files (100 files per batch) "
   ]
  },
  {
   "cell_type": "code",
   "execution_count": 4,
   "id": "4734cd4e-0a7f-4f4b-863a-5bf5a8cf27f4",
   "metadata": {},
   "outputs": [],
   "source": [
    "def create_parquet_batches(batch_size, in_folder, out_folder):\n",
    "    \n",
    "    os.makedirs(out_folder, exist_ok=True) \n",
    "    files = [os.path.join(in_folder, f) for f in os.listdir(in_folder) if f.endswith(\".pkl\")]\n",
    "    \n",
    "    results = []\n",
    "    \n",
    "    for i, file in enumerate(files):\n",
    "        with open(file, \"rb\") as f:\n",
    "            data = pickle.load(f)\n",
    "    \n",
    "        outer_key = next(iter(data))\n",
    "        inner_dict = data[outer_key]\n",
    "    \n",
    "        row = {\"file\": os.path.basename(file), \"id\": outer_key}\n",
    "    \n",
    "        for key, value in inner_dict.items():\n",
    "            row[key] = value\n",
    "    \n",
    "        results.append(row)\n",
    "    \n",
    "        if (i + 1) % batch_size == 0 or (i + 1) == len(files):\n",
    "            df = pd.DataFrame(results)\n",
    "            output_path = os.path.join(out_folder, f\"batch_{i // batch_size}.parquet\")\n",
    "            df.to_parquet(output_path, index=False)\n",
    "            print(f\"Сохранён {output_path} ({len(results)} строк)\")\n",
    "    \n",
    "            results.clear()\n",
    "            gc.collect()"
   ]
  },
  {
   "cell_type": "code",
   "execution_count": 39,
   "id": "ec8b9ca6-498f-472b-b942-7955acf6dc5c",
   "metadata": {
    "scrolled": true
   },
   "outputs": [
    {
     "name": "stdout",
     "output_type": "stream",
     "text": [
      "Сохранён train_parquet\\batch_0.parquet (100 строк)\n",
      "Сохранён train_parquet\\batch_1.parquet (100 строк)\n",
      "Сохранён train_parquet\\batch_2.parquet (100 строк)\n",
      "Сохранён train_parquet\\batch_3.parquet (100 строк)\n",
      "Сохранён train_parquet\\batch_4.parquet (100 строк)\n",
      "Сохранён train_parquet\\batch_5.parquet (100 строк)\n",
      "Сохранён train_parquet\\batch_6.parquet (100 строк)\n",
      "Сохранён train_parquet\\batch_7.parquet (100 строк)\n",
      "Сохранён train_parquet\\batch_8.parquet (100 строк)\n",
      "Сохранён train_parquet\\batch_9.parquet (100 строк)\n",
      "Сохранён train_parquet\\batch_10.parquet (100 строк)\n",
      "Сохранён train_parquet\\batch_11.parquet (100 строк)\n",
      "Сохранён train_parquet\\batch_12.parquet (100 строк)\n",
      "Сохранён train_parquet\\batch_13.parquet (100 строк)\n",
      "Сохранён train_parquet\\batch_14.parquet (100 строк)\n",
      "Сохранён train_parquet\\batch_15.parquet (100 строк)\n",
      "Сохранён train_parquet\\batch_16.parquet (100 строк)\n",
      "Сохранён train_parquet\\batch_17.parquet (100 строк)\n",
      "Сохранён train_parquet\\batch_18.parquet (100 строк)\n",
      "Сохранён train_parquet\\batch_19.parquet (100 строк)\n",
      "Сохранён train_parquet\\batch_20.parquet (100 строк)\n",
      "Сохранён train_parquet\\batch_21.parquet (100 строк)\n",
      "Сохранён train_parquet\\batch_22.parquet (100 строк)\n",
      "Сохранён train_parquet\\batch_23.parquet (100 строк)\n",
      "Сохранён train_parquet\\batch_24.parquet (100 строк)\n",
      "Сохранён train_parquet\\batch_25.parquet (100 строк)\n",
      "Сохранён train_parquet\\batch_26.parquet (100 строк)\n",
      "Сохранён train_parquet\\batch_27.parquet (100 строк)\n",
      "Сохранён train_parquet\\batch_28.parquet (100 строк)\n",
      "Сохранён train_parquet\\batch_29.parquet (100 строк)\n",
      "Сохранён train_parquet\\batch_30.parquet (100 строк)\n",
      "Сохранён train_parquet\\batch_31.parquet (100 строк)\n",
      "Сохранён train_parquet\\batch_32.parquet (100 строк)\n",
      "Сохранён train_parquet\\batch_33.parquet (100 строк)\n",
      "Сохранён train_parquet\\batch_34.parquet (100 строк)\n",
      "Сохранён train_parquet\\batch_35.parquet (100 строк)\n",
      "Сохранён train_parquet\\batch_36.parquet (100 строк)\n",
      "Сохранён train_parquet\\batch_37.parquet (100 строк)\n",
      "Сохранён train_parquet\\batch_38.parquet (100 строк)\n",
      "Сохранён train_parquet\\batch_39.parquet (100 строк)\n",
      "Сохранён train_parquet\\batch_40.parquet (27 строк)\n"
     ]
    }
   ],
   "source": [
    "create_parquet_batches(100, \"barcodes/train/subset\", \"train_parquet\")"
   ]
  },
  {
   "cell_type": "markdown",
   "id": "a4896b41-0ac6-486e-9837-4ba96a4826b2",
   "metadata": {},
   "source": [
    "### Concat several .parquet files in one"
   ]
  },
  {
   "cell_type": "code",
   "execution_count": 4,
   "id": "2dd7cc48-09f7-4fcb-8aa8-fd88034bb278",
   "metadata": {},
   "outputs": [],
   "source": [
    "def concat_parquet(folder):\n",
    "\n",
    "    files = [os.path.join(folder, f) for f in os.listdir(folder) if f.endswith(\".parquet\")]\n",
    "    \n",
    "    dfs = [pd.read_parquet(f) for f in files]\n",
    "    concat = pd.concat(dfs, ignore_index=True) \n",
    "    return concat"
   ]
  },
  {
   "cell_type": "code",
   "execution_count": 6,
   "id": "47ca37fd-eff5-4595-ad57-3453a4bc4072",
   "metadata": {
    "scrolled": true
   },
   "outputs": [],
   "source": [
    "train = concat_parquet(\"train_parquet/subset\")"
   ]
  },
  {
   "cell_type": "code",
   "execution_count": 5,
   "id": "a19b0293-0239-4ec1-867c-d5cab794997e",
   "metadata": {
    "scrolled": true
   },
   "outputs": [],
   "source": [
    "test = concat_parquet(\"test_parquet/subset\")"
   ]
  },
  {
   "cell_type": "markdown",
   "id": "8c356a59-3394-4309-962a-97de9c5d84c0",
   "metadata": {},
   "source": [
    "### Separate barcodes and labels"
   ]
  },
  {
   "cell_type": "code",
   "execution_count": 6,
   "id": "513256b1-e111-4b9d-a050-c8d0b25ff7a5",
   "metadata": {},
   "outputs": [],
   "source": [
    "barcodes_train = train['barcodes']\n",
    "BP_train = train['label_BP']\n",
    "MF_train = train['label_MF']\n",
    "CC_train = train['label_CC']\n",
    "\n",
    "barcodes_test = test['barcodes']\n",
    "BP_test = test['label_BP']\n",
    "MF_test = test['label_MF']\n",
    "CC_test = test['label_CC']"
   ]
  },
  {
   "cell_type": "markdown",
   "id": "8c93e359-5d77-4429-a990-537d63e63cab",
   "metadata": {},
   "source": [
    "### Vectorize barcodes using Persistence Landscapes"
   ]
  },
  {
   "cell_type": "code",
   "execution_count": 9,
   "id": "cd07aef0-32af-4ca4-81b7-ed358f64806f",
   "metadata": {},
   "outputs": [],
   "source": [
    "from gtda.diagrams import PersistenceLandscape\n",
    "\n",
    "def vectorization(barcodes, n_layers, n_bins):\n",
    "    vecs = []\n",
    "    for i, barcode in enumerate(barcodes):\n",
    "        barcode = np.array([np.stack(el) for el in np.vstack(barcode)])\n",
    "        PL = PersistenceLandscape(n_layers=n_layers, n_bins=n_bins)\n",
    "        landscape = PL.fit_transform(barcode)\n",
    "        landscape_flatten = landscape.flatten()\n",
    "        vecs.append(landscape_flatten)\n",
    "        if i % 100 == 0:\n",
    "            print(f\"✅ Обработано {i} образцов\")\n",
    "    vecs = np.array([el.tolist() for el in vecs])\n",
    "    return vecs"
   ]
  },
  {
   "cell_type": "code",
   "execution_count": 14,
   "id": "b6554ba9-56b2-4861-9a37-c3ea695b2e5f",
   "metadata": {},
   "outputs": [
    {
     "name": "stdout",
     "output_type": "stream",
     "text": [
      "✅ Обработано 0 образцов\n",
      "✅ Обработано 100 образцов\n",
      "✅ Обработано 200 образцов\n",
      "✅ Обработано 300 образцов\n",
      "✅ Обработано 400 образцов\n",
      "✅ Обработано 500 образцов\n",
      "✅ Обработано 600 образцов\n",
      "✅ Обработано 700 образцов\n",
      "✅ Обработано 800 образцов\n",
      "✅ Обработано 900 образцов\n",
      "✅ Обработано 1000 образцов\n"
     ]
    }
   ],
   "source": [
    "train_tda = vectorization(barcodes_train,2,10)"
   ]
  },
  {
   "cell_type": "code",
   "execution_count": 10,
   "id": "cb4a0796-db4c-436f-9de6-370859f92485",
   "metadata": {},
   "outputs": [
    {
     "name": "stdout",
     "output_type": "stream",
     "text": [
      "✅ Обработано 0 образцов\n",
      "✅ Обработано 100 образцов\n",
      "✅ Обработано 200 образцов\n",
      "✅ Обработано 300 образцов\n"
     ]
    }
   ],
   "source": [
    "test_tda = vectorization(barcodes_test,2,10)"
   ]
  },
  {
   "cell_type": "code",
   "execution_count": 19,
   "id": "d88562f1-a7ca-4b0a-ab64-10e08ba94238",
   "metadata": {},
   "outputs": [],
   "source": [
    "CC_train = np.vstack(CC_train)\n",
    "CC_test = np.vstack(CC_test)"
   ]
  },
  {
   "cell_type": "code",
   "execution_count": 12,
   "id": "e543f72a-d606-4d76-beba-c4737e414145",
   "metadata": {},
   "outputs": [],
   "source": [
    "MF_train = np.vstack(MF_train)\n",
    "MF_test = np.vstack(MF_test)"
   ]
  },
  {
   "cell_type": "code",
   "execution_count": 22,
   "id": "f7f79ae7-5291-4fe4-af7a-18be6e0eb724",
   "metadata": {
    "scrolled": true
   },
   "outputs": [],
   "source": [
    "BP_train = np.vstack(BP_train)\n",
    "BP_test = np.vstack(BP_test)"
   ]
  },
  {
   "cell_type": "markdown",
   "id": "5c699de2-7de2-4b3b-9a9e-0cce4c779e6f",
   "metadata": {},
   "source": [
    "### LightGBM for Cellular Component (CC) label"
   ]
  },
  {
   "cell_type": "code",
   "execution_count": 25,
   "id": "e8982493-5c9b-4121-be87-a9ac5babddd0",
   "metadata": {},
   "outputs": [
    {
     "data": {
      "text/html": [
       "<style>#sk-container-id-1 {color: black;}#sk-container-id-1 pre{padding: 0;}#sk-container-id-1 div.sk-toggleable {background-color: white;}#sk-container-id-1 label.sk-toggleable__label {cursor: pointer;display: block;width: 100%;margin-bottom: 0;padding: 0.3em;box-sizing: border-box;text-align: center;}#sk-container-id-1 label.sk-toggleable__label-arrow:before {content: \"▸\";float: left;margin-right: 0.25em;color: #696969;}#sk-container-id-1 label.sk-toggleable__label-arrow:hover:before {color: black;}#sk-container-id-1 div.sk-estimator:hover label.sk-toggleable__label-arrow:before {color: black;}#sk-container-id-1 div.sk-toggleable__content {max-height: 0;max-width: 0;overflow: hidden;text-align: left;background-color: #f0f8ff;}#sk-container-id-1 div.sk-toggleable__content pre {margin: 0.2em;color: black;border-radius: 0.25em;background-color: #f0f8ff;}#sk-container-id-1 input.sk-toggleable__control:checked~div.sk-toggleable__content {max-height: 200px;max-width: 100%;overflow: auto;}#sk-container-id-1 input.sk-toggleable__control:checked~label.sk-toggleable__label-arrow:before {content: \"▾\";}#sk-container-id-1 div.sk-estimator input.sk-toggleable__control:checked~label.sk-toggleable__label {background-color: #d4ebff;}#sk-container-id-1 div.sk-label input.sk-toggleable__control:checked~label.sk-toggleable__label {background-color: #d4ebff;}#sk-container-id-1 input.sk-hidden--visually {border: 0;clip: rect(1px 1px 1px 1px);clip: rect(1px, 1px, 1px, 1px);height: 1px;margin: -1px;overflow: hidden;padding: 0;position: absolute;width: 1px;}#sk-container-id-1 div.sk-estimator {font-family: monospace;background-color: #f0f8ff;border: 1px dotted black;border-radius: 0.25em;box-sizing: border-box;margin-bottom: 0.5em;}#sk-container-id-1 div.sk-estimator:hover {background-color: #d4ebff;}#sk-container-id-1 div.sk-parallel-item::after {content: \"\";width: 100%;border-bottom: 1px solid gray;flex-grow: 1;}#sk-container-id-1 div.sk-label:hover label.sk-toggleable__label {background-color: #d4ebff;}#sk-container-id-1 div.sk-serial::before {content: \"\";position: absolute;border-left: 1px solid gray;box-sizing: border-box;top: 0;bottom: 0;left: 50%;z-index: 0;}#sk-container-id-1 div.sk-serial {display: flex;flex-direction: column;align-items: center;background-color: white;padding-right: 0.2em;padding-left: 0.2em;position: relative;}#sk-container-id-1 div.sk-item {position: relative;z-index: 1;}#sk-container-id-1 div.sk-parallel {display: flex;align-items: stretch;justify-content: center;background-color: white;position: relative;}#sk-container-id-1 div.sk-item::before, #sk-container-id-1 div.sk-parallel-item::before {content: \"\";position: absolute;border-left: 1px solid gray;box-sizing: border-box;top: 0;bottom: 0;left: 50%;z-index: -1;}#sk-container-id-1 div.sk-parallel-item {display: flex;flex-direction: column;z-index: 1;position: relative;background-color: white;}#sk-container-id-1 div.sk-parallel-item:first-child::after {align-self: flex-end;width: 50%;}#sk-container-id-1 div.sk-parallel-item:last-child::after {align-self: flex-start;width: 50%;}#sk-container-id-1 div.sk-parallel-item:only-child::after {width: 0;}#sk-container-id-1 div.sk-dashed-wrapped {border: 1px dashed gray;margin: 0 0.4em 0.5em 0.4em;box-sizing: border-box;padding-bottom: 0.4em;background-color: white;}#sk-container-id-1 div.sk-label label {font-family: monospace;font-weight: bold;display: inline-block;line-height: 1.2em;}#sk-container-id-1 div.sk-label-container {text-align: center;}#sk-container-id-1 div.sk-container {/* jupyter's `normalize.less` sets `[hidden] { display: none; }` but bootstrap.min.css set `[hidden] { display: none !important; }` so we also need the `!important` here to be able to override the default hidden behavior on the sphinx rendered scikit-learn.org. See: https://github.com/scikit-learn/scikit-learn/issues/21755 */display: inline-block !important;position: relative;}#sk-container-id-1 div.sk-text-repr-fallback {display: none;}</style><div id=\"sk-container-id-1\" class=\"sk-top-container\"><div class=\"sk-text-repr-fallback\"><pre>MultiOutputClassifier(estimator=LGBMClassifier(class_weight=&#x27;balanced&#x27;,\n",
       "                                               max_depth=3, n_estimators=20,\n",
       "                                               n_jobs=1, random_state=42),\n",
       "                      n_jobs=-1)</pre><b>In a Jupyter environment, please rerun this cell to show the HTML representation or trust the notebook. <br />On GitHub, the HTML representation is unable to render, please try loading this page with nbviewer.org.</b></div><div class=\"sk-container\" hidden><div class=\"sk-item sk-dashed-wrapped\"><div class=\"sk-label-container\"><div class=\"sk-label sk-toggleable\"><input class=\"sk-toggleable__control sk-hidden--visually\" id=\"sk-estimator-id-1\" type=\"checkbox\" ><label for=\"sk-estimator-id-1\" class=\"sk-toggleable__label sk-toggleable__label-arrow\">MultiOutputClassifier</label><div class=\"sk-toggleable__content\"><pre>MultiOutputClassifier(estimator=LGBMClassifier(class_weight=&#x27;balanced&#x27;,\n",
       "                                               max_depth=3, n_estimators=20,\n",
       "                                               n_jobs=1, random_state=42),\n",
       "                      n_jobs=-1)</pre></div></div></div><div class=\"sk-parallel\"><div class=\"sk-parallel-item\"><div class=\"sk-item\"><div class=\"sk-label-container\"><div class=\"sk-label sk-toggleable\"><input class=\"sk-toggleable__control sk-hidden--visually\" id=\"sk-estimator-id-2\" type=\"checkbox\" ><label for=\"sk-estimator-id-2\" class=\"sk-toggleable__label sk-toggleable__label-arrow\">estimator: LGBMClassifier</label><div class=\"sk-toggleable__content\"><pre>LGBMClassifier(class_weight=&#x27;balanced&#x27;, max_depth=3, n_estimators=20, n_jobs=1,\n",
       "               random_state=42)</pre></div></div></div><div class=\"sk-serial\"><div class=\"sk-item\"><div class=\"sk-estimator sk-toggleable\"><input class=\"sk-toggleable__control sk-hidden--visually\" id=\"sk-estimator-id-3\" type=\"checkbox\" ><label for=\"sk-estimator-id-3\" class=\"sk-toggleable__label sk-toggleable__label-arrow\">LGBMClassifier</label><div class=\"sk-toggleable__content\"><pre>LGBMClassifier(class_weight=&#x27;balanced&#x27;, max_depth=3, n_estimators=20, n_jobs=1,\n",
       "               random_state=42)</pre></div></div></div></div></div></div></div></div></div></div>"
      ],
      "text/plain": [
       "MultiOutputClassifier(estimator=LGBMClassifier(class_weight='balanced',\n",
       "                                               max_depth=3, n_estimators=20,\n",
       "                                               n_jobs=1, random_state=42),\n",
       "                      n_jobs=-1)"
      ]
     },
     "execution_count": 25,
     "metadata": {},
     "output_type": "execute_result"
    }
   ],
   "source": [
    "from sklearn.multioutput import MultiOutputClassifier\n",
    "from lightgbm import LGBMClassifier\n",
    "\n",
    "model = LGBMClassifier(n_estimators=20, learning_rate=0.1, max_depth=3,class_weight='balanced', n_jobs=1, random_state=42)\n",
    "clf_cc = MultiOutputClassifier(model, n_jobs=-1)\n",
    "clf_cc.fit(train_tda,CC_train)"
   ]
  },
  {
   "cell_type": "code",
   "execution_count": 28,
   "id": "a9e49fd4-e799-4882-8c72-5a32b716e6f5",
   "metadata": {},
   "outputs": [
    {
     "data": {
      "text/plain": [
       "['cc_clf.pkl']"
      ]
     },
     "execution_count": 28,
     "metadata": {},
     "output_type": "execute_result"
    }
   ],
   "source": [
    "import joblib\n",
    "\n",
    "joblib.dump(clf_cc, \"cc_clf.pkl\")"
   ]
  },
  {
   "cell_type": "code",
   "execution_count": 29,
   "id": "9aafd3cf-7100-412f-9eef-3c55158393b3",
   "metadata": {},
   "outputs": [],
   "source": [
    "from metric.f1_max_score import count_f1_max\n",
    "\n",
    "preds_cc = clf_cc.predict(test_tda)\n",
    "f1_CC = count_f1_max(preds_cc,CC_test)"
   ]
  },
  {
   "cell_type": "code",
   "execution_count": 30,
   "id": "cce76a39-25bd-4578-961e-6d06367a05b6",
   "metadata": {},
   "outputs": [
    {
     "data": {
      "text/plain": [
       "0.34513187408447266"
      ]
     },
     "execution_count": 30,
     "metadata": {},
     "output_type": "execute_result"
    }
   ],
   "source": [
    "f1_CC"
   ]
  },
  {
   "cell_type": "markdown",
   "id": "ab8aa988-545f-4028-8a0d-d11b44d010f1",
   "metadata": {},
   "source": [
    "### LightGBM for Molecular Function (MF) label"
   ]
  },
  {
   "cell_type": "code",
   "execution_count": 31,
   "id": "ce171a57-2fe4-4840-bf95-5e097377738f",
   "metadata": {},
   "outputs": [
    {
     "data": {
      "text/html": [
       "<style>#sk-container-id-2 {color: black;}#sk-container-id-2 pre{padding: 0;}#sk-container-id-2 div.sk-toggleable {background-color: white;}#sk-container-id-2 label.sk-toggleable__label {cursor: pointer;display: block;width: 100%;margin-bottom: 0;padding: 0.3em;box-sizing: border-box;text-align: center;}#sk-container-id-2 label.sk-toggleable__label-arrow:before {content: \"▸\";float: left;margin-right: 0.25em;color: #696969;}#sk-container-id-2 label.sk-toggleable__label-arrow:hover:before {color: black;}#sk-container-id-2 div.sk-estimator:hover label.sk-toggleable__label-arrow:before {color: black;}#sk-container-id-2 div.sk-toggleable__content {max-height: 0;max-width: 0;overflow: hidden;text-align: left;background-color: #f0f8ff;}#sk-container-id-2 div.sk-toggleable__content pre {margin: 0.2em;color: black;border-radius: 0.25em;background-color: #f0f8ff;}#sk-container-id-2 input.sk-toggleable__control:checked~div.sk-toggleable__content {max-height: 200px;max-width: 100%;overflow: auto;}#sk-container-id-2 input.sk-toggleable__control:checked~label.sk-toggleable__label-arrow:before {content: \"▾\";}#sk-container-id-2 div.sk-estimator input.sk-toggleable__control:checked~label.sk-toggleable__label {background-color: #d4ebff;}#sk-container-id-2 div.sk-label input.sk-toggleable__control:checked~label.sk-toggleable__label {background-color: #d4ebff;}#sk-container-id-2 input.sk-hidden--visually {border: 0;clip: rect(1px 1px 1px 1px);clip: rect(1px, 1px, 1px, 1px);height: 1px;margin: -1px;overflow: hidden;padding: 0;position: absolute;width: 1px;}#sk-container-id-2 div.sk-estimator {font-family: monospace;background-color: #f0f8ff;border: 1px dotted black;border-radius: 0.25em;box-sizing: border-box;margin-bottom: 0.5em;}#sk-container-id-2 div.sk-estimator:hover {background-color: #d4ebff;}#sk-container-id-2 div.sk-parallel-item::after {content: \"\";width: 100%;border-bottom: 1px solid gray;flex-grow: 1;}#sk-container-id-2 div.sk-label:hover label.sk-toggleable__label {background-color: #d4ebff;}#sk-container-id-2 div.sk-serial::before {content: \"\";position: absolute;border-left: 1px solid gray;box-sizing: border-box;top: 0;bottom: 0;left: 50%;z-index: 0;}#sk-container-id-2 div.sk-serial {display: flex;flex-direction: column;align-items: center;background-color: white;padding-right: 0.2em;padding-left: 0.2em;position: relative;}#sk-container-id-2 div.sk-item {position: relative;z-index: 1;}#sk-container-id-2 div.sk-parallel {display: flex;align-items: stretch;justify-content: center;background-color: white;position: relative;}#sk-container-id-2 div.sk-item::before, #sk-container-id-2 div.sk-parallel-item::before {content: \"\";position: absolute;border-left: 1px solid gray;box-sizing: border-box;top: 0;bottom: 0;left: 50%;z-index: -1;}#sk-container-id-2 div.sk-parallel-item {display: flex;flex-direction: column;z-index: 1;position: relative;background-color: white;}#sk-container-id-2 div.sk-parallel-item:first-child::after {align-self: flex-end;width: 50%;}#sk-container-id-2 div.sk-parallel-item:last-child::after {align-self: flex-start;width: 50%;}#sk-container-id-2 div.sk-parallel-item:only-child::after {width: 0;}#sk-container-id-2 div.sk-dashed-wrapped {border: 1px dashed gray;margin: 0 0.4em 0.5em 0.4em;box-sizing: border-box;padding-bottom: 0.4em;background-color: white;}#sk-container-id-2 div.sk-label label {font-family: monospace;font-weight: bold;display: inline-block;line-height: 1.2em;}#sk-container-id-2 div.sk-label-container {text-align: center;}#sk-container-id-2 div.sk-container {/* jupyter's `normalize.less` sets `[hidden] { display: none; }` but bootstrap.min.css set `[hidden] { display: none !important; }` so we also need the `!important` here to be able to override the default hidden behavior on the sphinx rendered scikit-learn.org. See: https://github.com/scikit-learn/scikit-learn/issues/21755 */display: inline-block !important;position: relative;}#sk-container-id-2 div.sk-text-repr-fallback {display: none;}</style><div id=\"sk-container-id-2\" class=\"sk-top-container\"><div class=\"sk-text-repr-fallback\"><pre>MultiOutputClassifier(estimator=LGBMClassifier(class_weight=&#x27;balanced&#x27;,\n",
       "                                               max_depth=3, n_estimators=20,\n",
       "                                               n_jobs=1, random_state=42),\n",
       "                      n_jobs=-1)</pre><b>In a Jupyter environment, please rerun this cell to show the HTML representation or trust the notebook. <br />On GitHub, the HTML representation is unable to render, please try loading this page with nbviewer.org.</b></div><div class=\"sk-container\" hidden><div class=\"sk-item sk-dashed-wrapped\"><div class=\"sk-label-container\"><div class=\"sk-label sk-toggleable\"><input class=\"sk-toggleable__control sk-hidden--visually\" id=\"sk-estimator-id-4\" type=\"checkbox\" ><label for=\"sk-estimator-id-4\" class=\"sk-toggleable__label sk-toggleable__label-arrow\">MultiOutputClassifier</label><div class=\"sk-toggleable__content\"><pre>MultiOutputClassifier(estimator=LGBMClassifier(class_weight=&#x27;balanced&#x27;,\n",
       "                                               max_depth=3, n_estimators=20,\n",
       "                                               n_jobs=1, random_state=42),\n",
       "                      n_jobs=-1)</pre></div></div></div><div class=\"sk-parallel\"><div class=\"sk-parallel-item\"><div class=\"sk-item\"><div class=\"sk-label-container\"><div class=\"sk-label sk-toggleable\"><input class=\"sk-toggleable__control sk-hidden--visually\" id=\"sk-estimator-id-5\" type=\"checkbox\" ><label for=\"sk-estimator-id-5\" class=\"sk-toggleable__label sk-toggleable__label-arrow\">estimator: LGBMClassifier</label><div class=\"sk-toggleable__content\"><pre>LGBMClassifier(class_weight=&#x27;balanced&#x27;, max_depth=3, n_estimators=20, n_jobs=1,\n",
       "               random_state=42)</pre></div></div></div><div class=\"sk-serial\"><div class=\"sk-item\"><div class=\"sk-estimator sk-toggleable\"><input class=\"sk-toggleable__control sk-hidden--visually\" id=\"sk-estimator-id-6\" type=\"checkbox\" ><label for=\"sk-estimator-id-6\" class=\"sk-toggleable__label sk-toggleable__label-arrow\">LGBMClassifier</label><div class=\"sk-toggleable__content\"><pre>LGBMClassifier(class_weight=&#x27;balanced&#x27;, max_depth=3, n_estimators=20, n_jobs=1,\n",
       "               random_state=42)</pre></div></div></div></div></div></div></div></div></div></div>"
      ],
      "text/plain": [
       "MultiOutputClassifier(estimator=LGBMClassifier(class_weight='balanced',\n",
       "                                               max_depth=3, n_estimators=20,\n",
       "                                               n_jobs=1, random_state=42),\n",
       "                      n_jobs=-1)"
      ]
     },
     "execution_count": 31,
     "metadata": {},
     "output_type": "execute_result"
    }
   ],
   "source": [
    "model = LGBMClassifier(n_estimators=20, learning_rate=0.1, max_depth=3,class_weight='balanced', n_jobs=1, random_state=42)\n",
    "clf_mf = MultiOutputClassifier(model, n_jobs=-1)\n",
    "clf_mf.fit(train_tda,MF_train)"
   ]
  },
  {
   "cell_type": "code",
   "execution_count": 32,
   "id": "0e8e9dda-9e4f-4329-9de0-0bbd84da3145",
   "metadata": {},
   "outputs": [
    {
     "data": {
      "text/plain": [
       "['mf_clf.pkl']"
      ]
     },
     "execution_count": 32,
     "metadata": {},
     "output_type": "execute_result"
    }
   ],
   "source": [
    "joblib.dump(clf_mf, \"mf_clf.pkl\")"
   ]
  },
  {
   "cell_type": "code",
   "execution_count": 33,
   "id": "37e2eb75-5e27-4ae4-98b9-dded8ef5fd6c",
   "metadata": {},
   "outputs": [],
   "source": [
    "preds_mf = clf_mf.predict(test_tda)\n",
    "f1_MF = count_f1_max(preds_mf,MF_test)"
   ]
  },
  {
   "cell_type": "code",
   "execution_count": 34,
   "id": "49529812-dcf1-46b4-b44a-e2ba024c3f78",
   "metadata": {},
   "outputs": [
    {
     "data": {
      "text/plain": [
       "0.24193865060806274"
      ]
     },
     "execution_count": 34,
     "metadata": {},
     "output_type": "execute_result"
    }
   ],
   "source": [
    "f1_MF"
   ]
  },
  {
   "cell_type": "markdown",
   "id": "e211ae56-6b95-4768-86ba-388b6e26a389",
   "metadata": {},
   "source": [
    "### LightGBM for Biological Process (BP) label"
   ]
  },
  {
   "cell_type": "code",
   "execution_count": 35,
   "id": "37551ab7-7c52-4015-8a94-79ee435156ef",
   "metadata": {},
   "outputs": [
    {
     "name": "stderr",
     "output_type": "stream",
     "text": [
      "C:\\Users\\Lipidomics\\AppData\\Local\\Programs\\Python\\Python310\\lib\\site-packages\\joblib\\externals\\loky\\process_executor.py:752: UserWarning: A worker stopped while some jobs were given to the executor. This can be caused by a too short worker timeout or by a memory leak.\n",
      "  warnings.warn(\n"
     ]
    },
    {
     "data": {
      "text/html": [
       "<style>#sk-container-id-3 {color: black;}#sk-container-id-3 pre{padding: 0;}#sk-container-id-3 div.sk-toggleable {background-color: white;}#sk-container-id-3 label.sk-toggleable__label {cursor: pointer;display: block;width: 100%;margin-bottom: 0;padding: 0.3em;box-sizing: border-box;text-align: center;}#sk-container-id-3 label.sk-toggleable__label-arrow:before {content: \"▸\";float: left;margin-right: 0.25em;color: #696969;}#sk-container-id-3 label.sk-toggleable__label-arrow:hover:before {color: black;}#sk-container-id-3 div.sk-estimator:hover label.sk-toggleable__label-arrow:before {color: black;}#sk-container-id-3 div.sk-toggleable__content {max-height: 0;max-width: 0;overflow: hidden;text-align: left;background-color: #f0f8ff;}#sk-container-id-3 div.sk-toggleable__content pre {margin: 0.2em;color: black;border-radius: 0.25em;background-color: #f0f8ff;}#sk-container-id-3 input.sk-toggleable__control:checked~div.sk-toggleable__content {max-height: 200px;max-width: 100%;overflow: auto;}#sk-container-id-3 input.sk-toggleable__control:checked~label.sk-toggleable__label-arrow:before {content: \"▾\";}#sk-container-id-3 div.sk-estimator input.sk-toggleable__control:checked~label.sk-toggleable__label {background-color: #d4ebff;}#sk-container-id-3 div.sk-label input.sk-toggleable__control:checked~label.sk-toggleable__label {background-color: #d4ebff;}#sk-container-id-3 input.sk-hidden--visually {border: 0;clip: rect(1px 1px 1px 1px);clip: rect(1px, 1px, 1px, 1px);height: 1px;margin: -1px;overflow: hidden;padding: 0;position: absolute;width: 1px;}#sk-container-id-3 div.sk-estimator {font-family: monospace;background-color: #f0f8ff;border: 1px dotted black;border-radius: 0.25em;box-sizing: border-box;margin-bottom: 0.5em;}#sk-container-id-3 div.sk-estimator:hover {background-color: #d4ebff;}#sk-container-id-3 div.sk-parallel-item::after {content: \"\";width: 100%;border-bottom: 1px solid gray;flex-grow: 1;}#sk-container-id-3 div.sk-label:hover label.sk-toggleable__label {background-color: #d4ebff;}#sk-container-id-3 div.sk-serial::before {content: \"\";position: absolute;border-left: 1px solid gray;box-sizing: border-box;top: 0;bottom: 0;left: 50%;z-index: 0;}#sk-container-id-3 div.sk-serial {display: flex;flex-direction: column;align-items: center;background-color: white;padding-right: 0.2em;padding-left: 0.2em;position: relative;}#sk-container-id-3 div.sk-item {position: relative;z-index: 1;}#sk-container-id-3 div.sk-parallel {display: flex;align-items: stretch;justify-content: center;background-color: white;position: relative;}#sk-container-id-3 div.sk-item::before, #sk-container-id-3 div.sk-parallel-item::before {content: \"\";position: absolute;border-left: 1px solid gray;box-sizing: border-box;top: 0;bottom: 0;left: 50%;z-index: -1;}#sk-container-id-3 div.sk-parallel-item {display: flex;flex-direction: column;z-index: 1;position: relative;background-color: white;}#sk-container-id-3 div.sk-parallel-item:first-child::after {align-self: flex-end;width: 50%;}#sk-container-id-3 div.sk-parallel-item:last-child::after {align-self: flex-start;width: 50%;}#sk-container-id-3 div.sk-parallel-item:only-child::after {width: 0;}#sk-container-id-3 div.sk-dashed-wrapped {border: 1px dashed gray;margin: 0 0.4em 0.5em 0.4em;box-sizing: border-box;padding-bottom: 0.4em;background-color: white;}#sk-container-id-3 div.sk-label label {font-family: monospace;font-weight: bold;display: inline-block;line-height: 1.2em;}#sk-container-id-3 div.sk-label-container {text-align: center;}#sk-container-id-3 div.sk-container {/* jupyter's `normalize.less` sets `[hidden] { display: none; }` but bootstrap.min.css set `[hidden] { display: none !important; }` so we also need the `!important` here to be able to override the default hidden behavior on the sphinx rendered scikit-learn.org. See: https://github.com/scikit-learn/scikit-learn/issues/21755 */display: inline-block !important;position: relative;}#sk-container-id-3 div.sk-text-repr-fallback {display: none;}</style><div id=\"sk-container-id-3\" class=\"sk-top-container\"><div class=\"sk-text-repr-fallback\"><pre>MultiOutputClassifier(estimator=LGBMClassifier(class_weight=&#x27;balanced&#x27;,\n",
       "                                               max_depth=3, n_estimators=20,\n",
       "                                               n_jobs=1, random_state=42),\n",
       "                      n_jobs=-1)</pre><b>In a Jupyter environment, please rerun this cell to show the HTML representation or trust the notebook. <br />On GitHub, the HTML representation is unable to render, please try loading this page with nbviewer.org.</b></div><div class=\"sk-container\" hidden><div class=\"sk-item sk-dashed-wrapped\"><div class=\"sk-label-container\"><div class=\"sk-label sk-toggleable\"><input class=\"sk-toggleable__control sk-hidden--visually\" id=\"sk-estimator-id-7\" type=\"checkbox\" ><label for=\"sk-estimator-id-7\" class=\"sk-toggleable__label sk-toggleable__label-arrow\">MultiOutputClassifier</label><div class=\"sk-toggleable__content\"><pre>MultiOutputClassifier(estimator=LGBMClassifier(class_weight=&#x27;balanced&#x27;,\n",
       "                                               max_depth=3, n_estimators=20,\n",
       "                                               n_jobs=1, random_state=42),\n",
       "                      n_jobs=-1)</pre></div></div></div><div class=\"sk-parallel\"><div class=\"sk-parallel-item\"><div class=\"sk-item\"><div class=\"sk-label-container\"><div class=\"sk-label sk-toggleable\"><input class=\"sk-toggleable__control sk-hidden--visually\" id=\"sk-estimator-id-8\" type=\"checkbox\" ><label for=\"sk-estimator-id-8\" class=\"sk-toggleable__label sk-toggleable__label-arrow\">estimator: LGBMClassifier</label><div class=\"sk-toggleable__content\"><pre>LGBMClassifier(class_weight=&#x27;balanced&#x27;, max_depth=3, n_estimators=20, n_jobs=1,\n",
       "               random_state=42)</pre></div></div></div><div class=\"sk-serial\"><div class=\"sk-item\"><div class=\"sk-estimator sk-toggleable\"><input class=\"sk-toggleable__control sk-hidden--visually\" id=\"sk-estimator-id-9\" type=\"checkbox\" ><label for=\"sk-estimator-id-9\" class=\"sk-toggleable__label sk-toggleable__label-arrow\">LGBMClassifier</label><div class=\"sk-toggleable__content\"><pre>LGBMClassifier(class_weight=&#x27;balanced&#x27;, max_depth=3, n_estimators=20, n_jobs=1,\n",
       "               random_state=42)</pre></div></div></div></div></div></div></div></div></div></div>"
      ],
      "text/plain": [
       "MultiOutputClassifier(estimator=LGBMClassifier(class_weight='balanced',\n",
       "                                               max_depth=3, n_estimators=20,\n",
       "                                               n_jobs=1, random_state=42),\n",
       "                      n_jobs=-1)"
      ]
     },
     "execution_count": 35,
     "metadata": {},
     "output_type": "execute_result"
    }
   ],
   "source": [
    "model = LGBMClassifier(n_estimators=20, learning_rate=0.1, max_depth=3,class_weight='balanced', n_jobs=1, random_state=42)\n",
    "clf_bp = MultiOutputClassifier(model, n_jobs=-1)\n",
    "clf_bp.fit(train_tda,BP_train)"
   ]
  },
  {
   "cell_type": "code",
   "execution_count": 36,
   "id": "a7090f13-f31f-4134-bb99-1a86dbb16294",
   "metadata": {},
   "outputs": [
    {
     "data": {
      "text/plain": [
       "['bp_clf.pkl']"
      ]
     },
     "execution_count": 36,
     "metadata": {},
     "output_type": "execute_result"
    }
   ],
   "source": [
    "joblib.dump(clf_bp, \"bp_clf.pkl\")"
   ]
  },
  {
   "cell_type": "code",
   "execution_count": 37,
   "id": "c5d28bfe-235f-43f5-890d-d620b558283e",
   "metadata": {},
   "outputs": [],
   "source": [
    "preds_bp = clf_bp.predict(test_tda)\n",
    "f1_BP = count_f1_max(preds_bp,BP_test)"
   ]
  },
  {
   "cell_type": "code",
   "execution_count": 38,
   "id": "27f4c04c-1f55-41db-a84f-f5b16c69f1ac",
   "metadata": {},
   "outputs": [
    {
     "data": {
      "text/plain": [
       "0.22964271903038025"
      ]
     },
     "execution_count": 38,
     "metadata": {},
     "output_type": "execute_result"
    }
   ],
   "source": [
    "f1_BP"
   ]
  },
  {
   "cell_type": "code",
   "execution_count": null,
   "id": "526eee5d-edf2-42e8-ab3f-fe3b0815b1bd",
   "metadata": {},
   "outputs": [],
   "source": []
  }
 ],
 "metadata": {
  "kernelspec": {
   "display_name": "Python 3 (ipykernel)",
   "language": "python",
   "name": "python3"
  },
  "language_info": {
   "codemirror_mode": {
    "name": "ipython",
    "version": 3
   },
   "file_extension": ".py",
   "mimetype": "text/x-python",
   "name": "python",
   "nbconvert_exporter": "python",
   "pygments_lexer": "ipython3",
   "version": "3.10.0"
  }
 },
 "nbformat": 4,
 "nbformat_minor": 5
}
