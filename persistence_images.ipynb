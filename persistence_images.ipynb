{
 "cells": [
  {
   "cell_type": "markdown",
   "metadata": {},
   "source": [
    "Pickle file read"
   ]
  },
  {
   "cell_type": "code",
   "execution_count": 2,
   "metadata": {},
   "outputs": [],
   "source": [
    "import pickle\n",
    "import numpy as np\n",
    "\n",
    "data_file = \"data/valid_set/2891.pkl\"\n",
    "\n",
    "with open(data_file, 'rb') as file:\n",
    "    seq_data = pickle.load(file)\n",
    "\n",
    "for sequence, data in seq_data.items():\n",
    "    barcodes = data['barcodes']\n",
    "    #embeddings = data['embeddings']\n",
    "    label_MF = data['label_MF']\n",
    "    label_BP = data['label_BP']\n",
    "    label_CC = data['label_CC']\n",
    "\n",
    "try:\n",
    "    barcodes = np.array(barcodes)\n",
    "except ValueError:\n",
    "    for idx, el in enumerate(barcodes):\n",
    "        cur = len(el)\n",
    "        if idx > 0:\n",
    "            diff = cur - prev\n",
    "            if diff < 0:\n",
    "                for _ in range(-diff):\n",
    "                    barcodes[idx].append([0, 0, 0])\n",
    "            elif diff > 0:\n",
    "                for _ in range(diff):\n",
    "                    barcodes[idx].append([0, 0, 0])\n",
    "        prev = len(el)\n",
    "    barcodes = np.array(barcodes)\n",
    "label_MF = np.array(label_MF)\n",
    "label_CC = np.array(label_CC)\n",
    "label_BP = np.array(label_BP)"
   ]
  },
  {
   "cell_type": "code",
   "execution_count": 3,
   "metadata": {},
   "outputs": [
    {
     "data": {
      "text/plain": [
       "((660, 306, 3), (1943,), (320,), (489,))"
      ]
     },
     "execution_count": 3,
     "metadata": {},
     "output_type": "execute_result"
    }
   ],
   "source": [
    "barcodes.shape, label_BP.shape, label_CC.shape, label_MF.shape"
   ]
  },
  {
   "cell_type": "markdown",
   "metadata": {},
   "source": [
    "Example of Persistence Image usage"
   ]
  },
  {
   "cell_type": "code",
   "execution_count": 4,
   "metadata": {},
   "outputs": [],
   "source": [
    "from gudhi.representations import PersistenceImage\n",
    "from gudhi.representations import DiagramSelector\n",
    "import matplotlib.pyplot as plt\n",
    "\n",
    "pds  = DiagramSelector(use=True).fit_transform(barcodes)\n",
    "vpdtr = np.vstack(pds)\n",
    "\n",
    "pers = vpdtr[:,1]-vpdtr[:,0]\n",
    "im_bnds = [np.min(vpdtr[:,0]), 0.05, 0.8, np.max(pers)]\n",
    "PI_params = {'bandwidth': 8e-3, 'weight': lambda x: x[1], \n",
    "                 'resolution': [50,50], 'im_range': im_bnds}\n",
    "image = PersistenceImage(**PI_params).fit_transform(pds)"
   ]
  },
  {
   "cell_type": "code",
   "execution_count": null,
   "metadata": {},
   "outputs": [],
   "source": [
    "#print(pds[0])"
   ]
  },
  {
   "cell_type": "code",
   "execution_count": 8,
   "metadata": {},
   "outputs": [
    {
     "data": {
      "text/plain": [
       "<matplotlib.image.AxesImage at 0x7f59cc2ab670>"
      ]
     },
     "execution_count": 8,
     "metadata": {},
     "output_type": "execute_result"
    },
    {
     "data": {
      "image/png": "[encoded data removed]",
      "text/plain": [
       "<Figure size 1000x500 with 2 Axes>"
      ]
     },
     "metadata": {},
     "output_type": "display_data"
    }
   ],
   "source": [
    "fig, ax = plt.subplots(1, 2, figsize=(10, 5))\n",
    "plot_idx = 15\n",
    "birth = barcodes[plot_idx][:, 0]\n",
    "death = barcodes[plot_idx][:, 1]\n",
    "ax[0].scatter(birth, death)\n",
    "ax[0].set_ylim(im_bnds[-2], im_bnds[-1])\n",
    "ax[0].set_xlim(im_bnds[0], im_bnds[1])\n",
    "ax[1].imshow(np.reshape(image[plot_idx], [50,50])[:, :25], cmap='jet')"
   ]
  },
  {
   "cell_type": "code",
   "execution_count": 153,
   "metadata": {},
   "outputs": [],
   "source": [
    "from gudhi.representations import PersistenceImage\n",
    "from gudhi.representations import DiagramSelector\n",
    "import os\n",
    "import numpy as np\n",
    "import pickle\n",
    "\n",
    "def get_per_im(barcodes):\n",
    "    pds  = DiagramSelector(use=True).fit_transform(barcodes)\n",
    "    vpdtr = np.vstack(pds)\n",
    "\n",
    "    pers = vpdtr[:,1] - vpdtr[:,0]\n",
    "    im_bnds = [np.min(vpdtr[:,0]), 0.05, 0.8, np.max(pers)]\n",
    "    PI_params = {'bandwidth': 8e-3, 'weight': lambda x: x[1], \n",
    "                 'resolution': [50,50], 'im_range': im_bnds}\n",
    "    # print(f'pds[0]: {pds[0]}')\n",
    "    # print(im_bnds)\n",
    "    image = PersistenceImage(**PI_params).fit_transform(pds)\n",
    "    return image\n",
    "\n",
    "def read_one_file(file_path, barcodes = True, labels = False):\n",
    "    with open(file_path, 'rb') as file:\n",
    "        seq_data = pickle.load(file)\n",
    "    for sequence, data in seq_data.items():\n",
    "        if barcodes:\n",
    "            barcodes = data['barcodes']\n",
    "        if labels:\n",
    "            label_MF = data['label_MF']\n",
    "            label_BP = data['label_BP']\n",
    "            label_CC = data['label_CC']\n",
    "    ans = {}\n",
    "    if barcodes:\n",
    "        barcodes = np.array(barcodes)\n",
    "        PI = get_per_im(barcodes)\n",
    "        ans['images'] = PI\n",
    "    if labels:\n",
    "        label_MF = np.array(label_MF)\n",
    "        label_CC = np.array(label_CC)\n",
    "        label_BP = np.array(label_BP)\n",
    "        ans['MF'] = label_MF\n",
    "        ans['CC'] = label_CC\n",
    "        ans['BP'] = label_BP\n",
    "    return ans\n",
    "\n",
    "def clear():\n",
    "    os.system('cls' if os.name == 'nt' else 'clear')\n",
    "\n",
    "def read_all_files(dir_path, output_dir, barcodes=True, labels=False, verbose=True):\n",
    "    files = [f for f in os.listdir(dir_path) if os.path.isfile(os.path.join(dir_path, f))]\n",
    "    total_files = len(files)\n",
    "    print(files[431:441])\n",
    "    exit()\n",
    "    for i, filename in enumerate(files, start=1):\n",
    "        file_path = os.path.join(dir_path, filename)\n",
    "        result = read_one_file(file_path, barcodes=barcodes, labels=labels)\n",
    "        \n",
    "        base_name = os.path.splitext(filename)[0]\n",
    "        output_file_path = os.path.join(output_dir, f\"{base_name}.npz\")\n",
    "        np.savez(output_file_path, **result)\n",
    "\n",
    "        if verbose:\n",
    "            if i % 10 == 0:\n",
    "                print(f\"Current file is {i} out of {total_files}\")\n",
    "            if i % 200 == 0:\n",
    "                clear()"
   ]
  },
  {
   "cell_type": "code",
   "execution_count": 154,
   "metadata": {},
   "outputs": [],
   "source": [
    "test_one = read_one_file(\"data/valid_set/1000.pkl\", labels=True)"
   ]
  },
  {
   "cell_type": "code",
   "execution_count": 39,
   "metadata": {},
   "outputs": [
    {
     "data": {
      "text/plain": [
       "2254"
      ]
     },
     "execution_count": 39,
     "metadata": {},
     "output_type": "execute_result"
    }
   ],
   "source": [
    "test_string = '2254.pkl'\n",
    "int(test_string[:-4])"
   ]
  },
  {
   "cell_type": "code",
   "execution_count": 8,
   "metadata": {},
   "outputs": [],
   "source": [
    "def plot_images_in_batches(images, batch_size=10):\n",
    "    \"\"\"\n",
    "    Generator function to plot images in batches.\n",
    "\n",
    "    Args:\n",
    "    - images: numpy array of images\n",
    "    - batch_size: number of images to plot at a time\n",
    "\n",
    "    Yields:\n",
    "    - Plots images in batches\n",
    "    \"\"\"\n",
    "    total_images = images.shape[0]\n",
    "    for start_idx in range(0, total_images, batch_size):\n",
    "        end_idx = min(start_idx + batch_size, total_images)\n",
    "        print(start_idx, end_idx)\n",
    "        yield images[start_idx:end_idx]\n",
    "\n",
    "# Example usage\n",
    "def plot_next_batch(image_generator, figsize=(20, 10)):\n",
    "    try:\n",
    "        batch_images = next(image_generator)\n",
    "        fig, axes = plt.subplots(1, len(batch_images), figsize=figsize)\n",
    "        for i, image in enumerate(batch_images):\n",
    "            axes[i].imshow(np.reshape(image, [50, 50]), cmap='jet')\n",
    "            axes[i].axis('off')  # Hide axes\n",
    "        plt.show()\n",
    "    except StopIteration:\n",
    "        print(\"No more images to display.\")"
   ]
  },
  {
   "cell_type": "code",
   "execution_count": 155,
   "metadata": {},
   "outputs": [
    {
     "name": "stdout",
     "output_type": "stream",
     "text": [
      "0 6\n"
     ]
    },
    {
     "data": {
      "image/png": "[encoded data removed]",
      "text/plain": [
       "<Figure size 2000x1000 with 6 Axes>"
      ]
     },
     "metadata": {},
     "output_type": "display_data"
    }
   ],
   "source": [
    "image_gen = plot_images_in_batches(test_one['images'], batch_size=6)\n",
    "\n",
    "plot_next_batch(image_gen)"
   ]
  },
  {
   "cell_type": "code",
   "execution_count": null,
   "metadata": {},
   "outputs": [],
   "source": [
    "read_all_files('data/valid_set', 'data/testing_directory')"
   ]
  },
  {
   "cell_type": "code",
   "execution_count": 165,
   "metadata": {},
   "outputs": [
    {
     "data": {
      "text/plain": [
       "(660, 2500)"
      ]
     },
     "execution_count": 165,
     "metadata": {},
     "output_type": "execute_result"
    }
   ],
   "source": [
    "test_d = np.load('./data/testing_directory/0.npz', allow_pickle=True)\n",
    "test_d['images'].shape"
   ]
  },
  {
   "cell_type": "code",
   "execution_count": null,
   "metadata": {},
   "outputs": [],
   "source": [
    "import matplotlib.pyplot as plt\n",
    "fig, ax = plt.subplots() \n",
    "ax.imshow(np.reshape(test_d['images'][0], [50,50]), cmap='jet')"
   ]
  }
 ],
 "metadata": {
  "kernelspec": {
   "display_name": "py10",
   "language": "python",
   "name": "python3"
  },
  "language_info": {
   "codemirror_mode": {
    "name": "ipython",
    "version": 3
   },
   "file_extension": ".py",
   "mimetype": "text/x-python",
   "name": "python",
   "nbconvert_exporter": "python",
   "pygments_lexer": "ipython3",
   "version": "3.10.16"
  }
 },
 "nbformat": 4,
 "nbformat_minor": 2
}
